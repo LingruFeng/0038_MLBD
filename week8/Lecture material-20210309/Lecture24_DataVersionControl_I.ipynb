{
 "cells": [
  {
   "cell_type": "markdown",
   "id": "educated-jurisdiction",
   "metadata": {
    "slideshow": {
     "slide_type": "slide"
    }
   },
   "source": [
    "# Lecture 24: Data Version Control I"
   ]
  },
  {
   "cell_type": "markdown",
   "id": "center-updating",
   "metadata": {
    "slideshow": {
     "slide_type": "skip"
    }
   },
   "source": [
    "![](https://www.tensorflow.org/images/colab_logo_32px.png)\n",
    "[Run in colab](https://colab.research.google.com/drive/1eeydmRO5iwpDc0PVds8eQencz83hWale)"
   ]
  },
  {
   "cell_type": "markdown",
   "id": "terminal-wayne",
   "metadata": {
    "slideshow": {
     "slide_type": "slide"
    }
   },
   "source": [
    "This lecture is part of series on [Data Version control (DVC)](https://dvc.org), a way of systematically keeping track of different versions of models and datasets.\n",
    "\n",
    "This first lecture in the series will cover\n",
    "- why using DVC is a good idea\n",
    "- how to track files and move between versions"
   ]
  },
  {
   "cell_type": "markdown",
   "id": "graduate-indication",
   "metadata": {
    "slideshow": {
     "slide_type": "slide"
    }
   },
   "source": [
    "## What is version control?"
   ]
  },
  {
   "cell_type": "markdown",
   "id": "common-cameroon",
   "metadata": {
    "slideshow": {
     "slide_type": "fragment"
    }
   },
   "source": [
    "<img src=\"http://phdcomics.com/comics/archive/phd101212s.gif\" width=\"400\" alt=\"Series of drawings of a graduate student making changes to a manuscript based on his supervisor's comments, with his frustration and file names progressively increasing.\"/>\n",
    "\n",
    "(From [PHD Comics](http://phdcomics.com/comics/archive.php?comicid=1531))"
   ]
  },
  {
   "cell_type": "markdown",
   "id": "convinced-nursing",
   "metadata": {
    "slideshow": {
     "slide_type": "slide"
    }
   },
   "source": [
    "Instead of having multiple copies or working on a shared version:\n",
    "- **Track changes** in distisnct stages (\"commits\") as you work\n",
    "- Move backwards and forwards in history\n",
    "- Explore different alternatives (\"branches\")\n",
    "- Share entire history with others\n",
    "\n",
    "Different systems: **git**, subversion, hg, ..."
   ]
  },
  {
   "cell_type": "markdown",
   "id": "efficient-jenny",
   "metadata": {
    "slideshow": {
     "slide_type": "slide"
    }
   },
   "source": [
    "## Why data version control?\n",
    "\n",
    "Similar principles apply to data workflows as to code:\n",
    "\n",
    "- Mistakes happen!\n",
    "- New data appearing\n",
    "- Try variants of model (e.g. algorithm or its parameters) or data pipeline (e.g. preprocessing)"
   ]
  },
  {
   "cell_type": "markdown",
   "id": "sound-notebook",
   "metadata": {
    "slideshow": {
     "slide_type": "slide"
    }
   },
   "source": [
    "Git is not only for source code files. However, a dedicated data-focused solution is more attractive:\n",
    "\n",
    "- Git does not handle very large files efficiently\n",
    "- Thinking in terms of data workflows (models, parameters, inputs, ...) offers new useful functionality, e.g. reproducibility, metrics\n",
    "- Better integration with remote data providers e.g. S3\n",
    "- Can still use git under the hood, keeping code and data versioned simultaneously"
   ]
  },
  {
   "cell_type": "markdown",
   "id": "rural-amsterdam",
   "metadata": {
    "slideshow": {
     "slide_type": "slide"
    }
   },
   "source": [
    "## Getting started with DVC\n",
    "\n",
    "DVC is a command-line application that runs on any platform. Follow the [installation instructions](https://dvc.org/doc/install) to get it on your computer.\n",
    "\n",
    "To follow along, first create a new directory, switch to it and download the sample data there by running this command on a terminal:\n",
    "\n",
    "```\n",
    "dvc get https://github.com/iterative/dataset-registry get-started/data.xml -o data/data.xml\n",
    "```\n",
    "\n",
    "This should create a directory called `data` in your new directory, with a file called `data.xml` inside it.\n",
    "\n",
    "(This walkthrough is based on the [official tutorial](https://dvc.org/doc/start).)"
   ]
  },
  {
   "cell_type": "markdown",
   "id": "chicken-omaha",
   "metadata": {
    "slideshow": {
     "slide_type": "slide"
    }
   },
   "source": [
    "### Example: tracking a single file\n",
    "\n",
    "First, initialize your directory as a dvc (and git) repository, so they can start tracking changes:\n",
    "```bash\n",
    "git init\n",
    "dvc init\n",
    "```\n",
    "\n",
    "After the above, dvc creates some new files and gives you a hint about what to run: \"You can now commit the changes to git.\"\n",
    "\n",
    "```bash\n",
    "git commit -m \"Initial setup\"\n",
    "```\n"
   ]
  },
  {
   "cell_type": "markdown",
   "id": "productive-provision",
   "metadata": {
    "slideshow": {
     "slide_type": "skip"
    }
   },
   "source": [
    "#### Initializing tracking\n",
    "We are not tracking any files yet. Let's tell dvc to track the dataset we downloaded:\n",
    "\n",
    "```bash\n",
    "dvc add data/data.xml\n",
    "```\n",
    "\n",
    "As before, dvc creates some internal files and tells us what to commit with git:\n",
    "> To track the changes with git, run:\n",
    ">\n",
    ">\tgit add data/data.xml.dvc data/.gitignore\n",
    "\n",
    "Run the command it suggests, and then commit:\n",
    "```bash\n",
    "git commit -m \"Add initial version of dataset\"\n",
    "```"
   ]
  },
  {
   "cell_type": "markdown",
   "id": "continent-reference",
   "metadata": {},
   "source": [
    "Note that this is different from the usual git workflow. Normally, we would be `add`ing the data file itself (`data.xml`).\n",
    "\n",
    "Instead, we are adding a smaller \"proxy\" file (`data.xml.dvc`). This file is much smaller, and dvc knows it represents the original dataset.\n",
    "\n",
    "(To verify the size difference, check `ls -lh data`; the original data takes up 36MB, while the proxy file is only 80 bytes long)."
   ]
  },
  {
   "cell_type": "markdown",
   "id": "complete-lender",
   "metadata": {},
   "source": [
    "#### Making changes\n",
    "During the course of our work, the dataset may change - intentionally or by accident. For simplicity, we will simulate a change by repeating the dataset twice:\n",
    "\n",
    "```bash\n",
    "cp data/data.xml temp.xml  # create a temporary copy\n",
    "cat temp.xml >> data/data.xml  # append the copy to the original\n",
    "rm temp.xml  # remove the copy\n",
    "```\n",
    "\n",
    "Check the size of the file with `ls -lh data` to verify it has doubled."
   ]
  },
  {
   "cell_type": "markdown",
   "id": "oriental-centre",
   "metadata": {},
   "source": [
    "To register the changes with git and dvc, we run similar commands to before:\n",
    "```shell\n",
    "dvc add data/data.xml\n",
    "git add data/data.xml.dvc  # as suggested by dvc\n",
    "git commit -m \"Double size of dataset\"\n",
    "```"
   ]
  },
  {
   "cell_type": "markdown",
   "id": "declared-invasion",
   "metadata": {
    "slideshow": {
     "slide_type": "-"
    }
   },
   "source": [
    "#### Switching versions\n",
    "Switching to another version happens in two stages.\n",
    "\n",
    "First, we switch with git:\n",
    "```bash\n",
    "git checkout HEAD~\n",
    "```\n",
    "(`HEAD~`is the previous commit, so in this case the original dataset)"
   ]
  },
  {
   "cell_type": "markdown",
   "id": "balanced-ready",
   "metadata": {
    "slideshow": {
     "slide_type": "-"
    }
   },
   "source": [
    "Then we \"synchronise\" the files under dvc with\n",
    "```bash\n",
    "dvc checkout\n",
    "```\n",
    "\n",
    "This will find the version of the data when that commit was made, and check it out.\n",
    "\n",
    "Verify that the version changed with `ls -lh data` (look for the original size).\n",
    "\n",
    "Go back to the newest version (doubled data) with\n",
    "\n",
    "```bash\n",
    "git checkout master\n",
    "dvc checkout\n",
    "```"
   ]
  },
  {
   "cell_type": "markdown",
   "id": "standing-landscape",
   "metadata": {},
   "source": [
    "### Summary\n",
    "\n",
    "This has been the basic usage of dvc to track and revert changes to a file. Building on this, in the next lectures we will see how dvc can be used to track models and entire machine learning workflows."
   ]
  }
 ],
 "metadata": {
  "celltoolbar": "Slideshow",
  "kernelspec": {
   "display_name": "Python 3",
   "language": "python",
   "name": "python3"
  },
  "language_info": {
   "codemirror_mode": {
    "name": "ipython",
    "version": 3
   },
   "file_extension": ".py",
   "mimetype": "text/x-python",
   "name": "python",
   "nbconvert_exporter": "python",
   "pygments_lexer": "ipython3",
   "version": "3.8.5"
  }
 },
 "nbformat": 4,
 "nbformat_minor": 5
}
