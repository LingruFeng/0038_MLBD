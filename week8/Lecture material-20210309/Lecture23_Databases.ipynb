{
 "cells": [
  {
   "cell_type": "markdown",
   "metadata": {
    "slideshow": {
     "slide_type": "slide"
    }
   },
   "source": [
    "# Lecture 23: Databases"
   ]
  },
  {
   "cell_type": "markdown",
   "metadata": {
    "slideshow": {
     "slide_type": "skip"
    }
   },
   "source": [
    "![](https://www.tensorflow.org/images/colab_logo_32px.png)\n",
    "[Run in colab](https://colab.research.google.com/drive/1BCOjNi2_Pmj_YP4Klw-9qrJ6CqAhQzxd)"
   ]
  },
  {
   "cell_type": "markdown",
   "metadata": {
    "slideshow": {
     "slide_type": "slide"
    }
   },
   "source": [
    "As the volume of data we are handling grows, it becomes harder to keep track of how it is structured and what information it contains.\n",
    "\n",
    "We need to store the data in a way that lets us inspect and update it in a straightforward, principled manner.\n",
    "\n",
    "A **database** is a collection of data that offers easier and more efficient storage and retrieval."
   ]
  },
  {
   "cell_type": "markdown",
   "metadata": {
    "slideshow": {
     "slide_type": "slide"
    }
   },
   "source": [
    "Benefits of databases include:\n",
    "- The ability to query the data to find entries of interest\n",
    "- The ability to modify the contents\n",
    "- A more abstract view of the data, focusing on high-level entities and relationships, rather than \"low-level\" variables\n",
    "- Performance improvements through internal book-keeping\n",
    "- Control over who can access their contents\n",
    " \n",
    "Traditionally, the most common way of storing data like this has been in a relational database."
   ]
  },
  {
   "cell_type": "markdown",
   "metadata": {
    "slideshow": {
     "slide_type": "slide"
    }
   },
   "source": [
    "## Relational databases\n",
    "\n",
    "In a relational database, data exists in tables:\n",
    "- Rows correspond to individual records or data samples\n",
    "- Columns are variables of a particular type\n",
    "\n",
    "\n",
    "The structure of each table is critical. This includes:\n",
    "- the number of columns\n",
    "- the name of each column\n",
    "- the type of data in each column\n",
    "\n",
    "This is called the **schema** of the database. "
   ]
  },
  {
   "cell_type": "markdown",
   "metadata": {
    "slideshow": {
     "slide_type": "slide"
    }
   },
   "source": [
    "Deciding on the structure of the database is very important. A good schema aims to:\n",
    "- capture all the relevant information\n",
    "- avoid duplication of data as much as possible\n",
    "- capture constraints about the data, such as types\n",
    "- represent relations between different fields and tables\n",
    "\n",
    "Here is an example (taken from a [Software Carpentry tutorial](https://swcarpentry.github.io/sql-novice-survey/01-select/index.html)) of how a schema can be depicted:"
   ]
  },
  {
   "cell_type": "markdown",
   "metadata": {
    "slideshow": {
     "slide_type": "slide"
    }
   },
   "source": [
    "![Sample of a database schema, showing four tables, the columns in each table and their types, and the relationships between columns in different tables](https://swcarpentry.github.io/sql-novice-survey/fig/sql-join-structure.svg)"
   ]
  },
  {
   "cell_type": "markdown",
   "metadata": {
    "slideshow": {
     "slide_type": "skip"
    }
   },
   "source": [
    "For each of the four tables, the schema lists its columns and their types. The arrows show dependencies between different tables. For example, the \"person\" column in the Survey table cannot contain arbitrary values; it must be a valid person ID, i.e. it must match the value of the \"id\" column for some row in the Person table. This is a common type of constraint that relational databases enforce. "
   ]
  },
  {
   "cell_type": "markdown",
   "metadata": {
    "slideshow": {
     "slide_type": "slide"
    }
   },
   "source": [
    "The database checks that these constraints and relations are satisfied at all times.\n",
    "\n",
    "If the user tries to insert data that would violate the constraints, the database system will reject that update, ensuring the **integrity** of the data."
   ]
  },
  {
   "cell_type": "markdown",
   "metadata": {
    "slideshow": {
     "slide_type": "fragment"
    }
   },
   "source": [
    "There are several **relational database management systems (RDBMSs)**, such as [MySQL](https://www.mysql.com/), [Postgresql](https://www.postgresql.org/), [SQLite](https://sqlite.org/) and [Oracle](https://oracle.com/database).\n",
    "\n",
    "These offer slightly different features but share the same fundamental approach."
   ]
  },
  {
   "cell_type": "markdown",
   "metadata": {
    "slideshow": {
     "slide_type": "slide"
    }
   },
   "source": [
    "### SQL\n",
    "\n",
    "To extract information from a relational database, we can write queries in the **Structured Query Language (SQL)**.\n",
    "\n",
    "Common operations include:\n",
    "- Selecting a subset of records based on the value of one or more fields\n",
    "- Selecting only certain columns of interest\n",
    "- Performing aggregations (summing or counting records)\n",
    "- Combining  (\"joining\") rows from multiple tables\n"
   ]
  },
  {
   "cell_type": "markdown",
   "metadata": {
    "slideshow": {
     "slide_type": "slide"
    }
   },
   "source": [
    "#### Example: Reading from an SQL database\n",
    "\n",
    "To illustrate some of these concepts, we will work with a small database of fictional experimental measurements. You can read more about the structure of the database in the [tutorial](https://swcarpentry.github.io/sql-novice-survey/01-select/index.html) it originates from."
   ]
  },
  {
   "cell_type": "markdown",
   "metadata": {
    "slideshow": {
     "slide_type": "slide"
    }
   },
   "source": [
    "First we need to download the data. In this case, database itself is stored in a file which can be shared like any other file."
   ]
  },
  {
   "cell_type": "code",
   "execution_count": 1,
   "metadata": {
    "slideshow": {
     "slide_type": "fragment"
    }
   },
   "outputs": [],
   "source": [
    "# Use Python's built-in support for sending and receiving data over the web\n",
    "import urllib.request\n",
    "\n",
    "# Get the database from a remote location...\n",
    "response = urllib.request.urlopen(\"https://swcarpentry.github.io/sql-novice-survey/files/survey.db\")\n",
    "# ...and save it as a local file\n",
    "with open('survey.db', 'wb') as db_file:\n",
    "    contents = response.read()\n",
    "    db_file.write(contents)"
   ]
  },
  {
   "cell_type": "markdown",
   "metadata": {
    "slideshow": {
     "slide_type": "slide"
    }
   },
   "source": [
    "The database we have downloaded is for the SQLite system.\n",
    "\n",
    "To issue SQL commands, we can either work with a RDBMS directly, or use a programming language and appropriate packages. Python comes with built-in support for SQLite databases through the [`sqlite3` package](https://docs.python.org/3/library/sqlite3.html). "
   ]
  },
  {
   "cell_type": "code",
   "execution_count": 2,
   "metadata": {
    "slideshow": {
     "slide_type": "fragment"
    }
   },
   "outputs": [],
   "source": [
    "import sqlite3\n",
    "\n",
    "connection = sqlite3.connect('survey.db')"
   ]
  },
  {
   "cell_type": "markdown",
   "metadata": {
    "slideshow": {
     "slide_type": "fragment"
    }
   },
   "source": [
    "Once connected, we can execute SQL queries and get the results."
   ]
  },
  {
   "cell_type": "markdown",
   "metadata": {
    "slideshow": {
     "slide_type": "slide"
    }
   },
   "source": [
    "#### Selecting rows of data\n",
    "\n",
    "The fundamental way of extracting data with SQL is a query of the form:\n",
    "\n",
    "```sql\n",
    "SELECT <column(s) of interest>\n",
    "FROM <corresponding table(s)>\n",
    "```\n",
    "\n",
    "For example, we can get the personal and family names (i.e. first and last name) of everyone in the database:\n",
    "\n",
    "```sql\n",
    "SELECT personal, family\n",
    "FROM Person\n",
    "```"
   ]
  },
  {
   "cell_type": "markdown",
   "metadata": {
    "slideshow": {
     "slide_type": "skip"
    }
   },
   "source": [
    "Let's run this query in Python and print the results:"
   ]
  },
  {
   "cell_type": "code",
   "execution_count": 3,
   "metadata": {
    "scrolled": true,
    "slideshow": {
     "slide_type": "slide"
    }
   },
   "outputs": [
    {
     "name": "stdout",
     "output_type": "stream",
     "text": [
      "('William', 'Dyer')\n",
      "('Frank', 'Pabodie')\n",
      "('Anderson', 'Lake')\n",
      "('Valentina', 'Roerich')\n",
      "('Frank', 'Danforth')\n"
     ]
    }
   ],
   "source": [
    "names = connection.execute(\"SELECT personal, family FROM Person\")\n",
    "for result in names:\n",
    "    print(result)"
   ]
  },
  {
   "cell_type": "markdown",
   "metadata": {
    "slideshow": {
     "slide_type": "slide"
    }
   },
   "source": [
    "Usually we will want to get only a subset of the rows that satisfy a condition. We can restrict the results using an extra `WHERE` clause:"
   ]
  },
  {
   "cell_type": "code",
   "execution_count": 4,
   "metadata": {
    "slideshow": {
     "slide_type": "fragment"
    }
   },
   "outputs": [
    {
     "name": "stdout",
     "output_type": "stream",
     "text": [
      "(734, 'pb', 'temp', -21.5)\n",
      "(735, None, 'temp', -26.0)\n",
      "(751, 'pb', 'temp', -18.5)\n",
      "(752, 'lake', 'temp', -16.0)\n"
     ]
    }
   ],
   "source": [
    "visits = connection.execute(\"SELECT * FROM Survey WHERE reading < 0\")\n",
    "for result in visits:\n",
    "    print(result)"
   ]
  },
  {
   "cell_type": "markdown",
   "metadata": {
    "slideshow": {
     "slide_type": "slide"
    }
   },
   "source": [
    "Queries can look up and combine information in multiple tables.\n",
    "\n",
    "For instance, even though the Survey table only holds scientists' ids, not their names, we can get all the measurements (\"readings\") made by a person if we know their last name:\n",
    "\n",
    "```sql\n",
    "SELECT reading\n",
    "FROM Survey, Person\n",
    "WHERE Survey.person = Person.id AND Person.family = 'Lake'\n",
    "```\n",
    "\n",
    "(This is an example - there are better ways of doing this kind of combination!)"
   ]
  },
  {
   "cell_type": "markdown",
   "metadata": {
    "slideshow": {
     "slide_type": "slide"
    }
   },
   "source": [
    "When we run a query like this, the database system may not need to inspect every row to find the results.\n",
    "\n",
    "Instead, it uses an internal set of **indices** that allow it to look up the relevant rows. These indices are updated automatically and stored alongside the tables.\n",
    "\n",
    "This gives increased performance, without the user having to worry about maintaing these indices or even know the details of how queries run."
   ]
  },
  {
   "cell_type": "markdown",
   "metadata": {
    "slideshow": {
     "slide_type": "slide"
    }
   },
   "source": [
    "#### Modifying data\n",
    "\n",
    "Apart from extracting data, SQL can be used to:\n",
    "- insert new rows into a table\n",
    "- modify existing rows\n",
    "- delete rows\n",
    "\n",
    "For example, the query\n",
    "\n",
    "```sql\n",
    "INSERT INTO Person\n",
    "VALUES ('bta', 'Beatriz', 'Torres')\n",
    "```\n",
    "\n",
    "will create a new row in the Person table for a person named Beatriz Torres with id `bta`.\n",
    "\n",
    "We can build up more complex queries, e.g. \"increase by 10% every measurement which is below the mean, unless it was taken last week\"."
   ]
  },
  {
   "cell_type": "markdown",
   "metadata": {
    "slideshow": {
     "slide_type": "slide"
    }
   },
   "source": [
    "#### Other SQL features\n",
    "\n",
    "SQL offers more functionality, such as:\n",
    "- Basic arithmetic and computations\n",
    "- Built-in functions for working with dates and other data types (depending on the RDBMS)\n",
    "- Syntax for creating tables and altering their schema\n",
    "- Syntax for specifying constraints and dependencies\n",
    "\n",
    "More complex operations can be completed by \"combining\" SQL with a programming language."
   ]
  },
  {
   "cell_type": "code",
   "execution_count": 5,
   "metadata": {
    "slideshow": {
     "slide_type": "slide"
    }
   },
   "outputs": [],
   "source": [
    "# Terminate the connection when done\n",
    "connection.close()"
   ]
  },
  {
   "cell_type": "markdown",
   "metadata": {
    "slideshow": {
     "slide_type": "slide"
    }
   },
   "source": [
    "### Benefits of relational databases\n",
    "\n",
    "Relational databases were practically the standard until recently. They offer:\n",
    "- A shared way of using them (the core of SQL is the same despite variations in different RDBMSs)\n",
    "- Guarantees about the integrity of the data\n",
    "- Stability and a large community of experienced users\n",
    "- Decades of theoretical research and performance optimisations"
   ]
  },
  {
   "cell_type": "markdown",
   "metadata": {
    "slideshow": {
     "slide_type": "slide"
    }
   },
   "source": [
    "## Non-relational databases\n",
    "\n",
    "Sometimes the rigid structure of a relational database is not useful. Non-relational or **NoSQL databases** can store data even when it does not have a consistent structure. This flexibility is useful, for example, when our data comes in various forms, or when we are still gathering it and therefore don't know what the best structure to use will be."
   ]
  },
  {
   "cell_type": "markdown",
   "metadata": {
    "slideshow": {
     "slide_type": "slide"
    }
   },
   "source": [
    "There are many NoSQL database systems, such as [MongoDB](https://www.mongodb.com/) and [Neo4j](https://neo4j.com/).\n",
    "\n",
    "Instead of tables with fixed columns, these databases model their contents in different ways.\n",
    "\n",
    "For example, MongoDB is treats its contents as documents containing multiple fields. The fields don't need to be the same across documents: we can store entries with different types of information in the same database without issue. "
   ]
  },
  {
   "cell_type": "markdown",
   "metadata": {
    "slideshow": {
     "slide_type": "slide"
    }
   },
   "source": [
    "Instead of SQL, each system usually offers its own libraries for accessing a database through a programming language (for example, MongoDB has the [`pymongo`](https://pymongo.readthedocs.io/en/stable/) package for Python, and [similar for other languages](https://docs.mongodb.com/drivers/)).\n",
    "\n",
    "Benefit: Access can be more intuitive, without needing to learn a new language.\n",
    "\n",
    "Downside: Systems differ in how they expect users to structure and access their data."
   ]
  },
  {
   "cell_type": "markdown",
   "metadata": {
    "slideshow": {
     "slide_type": "slide"
    }
   },
   "source": [
    "### Comparison\n",
    "\n",
    "The two approaches are most effective in different situations:\n",
    "\n",
    "- SQL emphasises integrity and validation of data but requires a rigid structure; NoSQL offers flexibility but leaves checks up to the user.\n",
    "- SQL structure focuses on eliminating duplication and improving performance; NoSQL is more concerned with availability and scaling, even if it means replicating data.\n",
    "- SQL has an established presence and set of tools; NoSQL systems show more frequent innovation.\n",
    "\n",
    "However, both sets of systems are now drawing inspiration from each other to offer new features."
   ]
  },
  {
   "cell_type": "markdown",
   "metadata": {
    "slideshow": {
     "slide_type": "slide"
    }
   },
   "source": [
    "### Summary\n",
    "\n",
    "- Databases provide a principled way for storing, sharing and querying large amounts of data.\n",
    "- Traditional relational databases can be queried through SQL.\n",
    "- NoSQL databases offer more flexibility at the expense of integrity and consistency."
   ]
  }
 ],
 "metadata": {
  "celltoolbar": "Slideshow",
  "kernelspec": {
   "display_name": "Python 3",
   "language": "python",
   "name": "python3"
  },
  "language_info": {
   "codemirror_mode": {
    "name": "ipython",
    "version": 3
   },
   "file_extension": ".py",
   "mimetype": "text/x-python",
   "name": "python",
   "nbconvert_exporter": "python",
   "pygments_lexer": "ipython3",
   "version": "3.7.3"
  },
  "rise": {
   "transition": "none"
  }
 },
 "nbformat": 4,
 "nbformat_minor": 2
}
