{
 "cells": [
  {
   "cell_type": "markdown",
   "metadata": {
    "slideshow": {
     "slide_type": "slide"
    }
   },
   "source": [
    "# Lecture 15: Cloud Computing II (Prediction)"
   ]
  },
  {
   "cell_type": "markdown",
   "metadata": {
    "slideshow": {
     "slide_type": "subslide"
    }
   },
   "source": [
    "![](https://www.tensorflow.org/images/colab_logo_32px.png)\n",
    "[Run in colab](https://colab.research.google.com/drive/1b0jEw__ZWCONA4Eu-Gw17GFsLIw_q2IY )"
   ]
  },
  {
   "cell_type": "markdown",
   "metadata": {
    "slideshow": {
     "slide_type": "slide"
    }
   },
   "source": [
    "## Command line or web UI\n",
    "\n",
    "You can do all I am doing from the command line using the `gcloud` and `gsutil` Command Line Interfaces (CLIs).\n",
    "\n",
    "I'm using the web UI here to make it clearer."
   ]
  },
  {
   "cell_type": "markdown",
   "metadata": {
    "slideshow": {
     "slide_type": "slide"
    }
   },
   "source": [
    "## I need to let other people use this model → AI platform"
   ]
  },
  {
   "cell_type": "markdown",
   "metadata": {
    "slideshow": {
     "slide_type": "fragment"
    }
   },
   "source": [
    "* Can use TensorFlow serving\n",
    "* Much better to use AI platform as the serving will scale and control access"
   ]
  },
  {
   "cell_type": "markdown",
   "metadata": {
    "slideshow": {
     "slide_type": "subslide"
    }
   },
   "source": [
    "<!-- <img src=\"https://raw.githubusercontent.com/astro-informatics/course_mlbd_images/master/Lecture15_Images/AI_platform_prediction_1.png\" style=\"width: 500px;\"/></center>\n",
    "<img src=\"https://raw.githubusercontent.com/astro-informatics/course_mlbd_images/master/Lecture15_Images/AI_platform_prediction_2.png\" style=\"width: 500px;\"/></center>\n",
    "<img src=\"https://raw.githubusercontent.com/astro-informatics/course_mlbd_images/master/Lecture15_Images/AI_platform_prediction_3.png\" style=\"width: 500px;\"/> -->\n",
    "\n",
    "![](https://raw.githubusercontent.com/astro-informatics/course_mlbd_images/master/Lecture15_Images/AI_platform_prediction_1.png)\n",
    "![](https://raw.githubusercontent.com/astro-informatics/course_mlbd_images/master/Lecture15_Images/AI_platform_prediction_2.png)\n",
    "![](https://raw.githubusercontent.com/astro-informatics/course_mlbd_images/master/Lecture15_Images/AI_platform_prediction_3.png)"
   ]
  },
  {
   "cell_type": "markdown",
   "metadata": {
    "slideshow": {
     "slide_type": "subslide"
    }
   },
   "source": [
    "### Things to consider\n",
    "* The model must be in the correct format (i.e. a save_model in TensorFlow)\n",
    "* Limit on the size of the model (must be less than 256MB)\n",
    "* Can scale to meet demand so great for the backend of a website\n",
    "* Can create your own prediction code (known as custom prediction)\n",
    "    * The code does not have access to the hard disk\n",
    "* This should be seen a function in a microservice\n",
    "    * The model should require as little pre or postprossing of the data as possible\n",
    "    * People will add this to the model or use a custom prediction"
   ]
  },
  {
   "cell_type": "markdown",
   "metadata": {
    "slideshow": {
     "slide_type": "subslide"
    }
   },
   "source": [
    "### Other versions\n",
    "* AWS have Amazon SageMaker https://aws.amazon.com/machine-learning/"
   ]
  },
  {
   "cell_type": "markdown",
   "metadata": {
    "slideshow": {
     "slide_type": "slide"
    }
   },
   "source": [
    "## I need to perform regular data operations → Airflow"
   ]
  },
  {
   "cell_type": "markdown",
   "metadata": {
    "slideshow": {
     "slide_type": "fragment"
    }
   },
   "source": [
    "* Build simple or complex data transform jobs\n",
    "* Easy to \n",
    "    * build\n",
    "    * debug\n",
    "    * monitor\n",
    "* Best to use for regular jobs, e.g. once a day, minute etc.\n",
    "* Can be used for one-off jobs (just not too often, as they can not be set off more then 10^6 per sec)\n",
    "* See https://airflow.apache.org/ and https://cloud.google.com/composer"
   ]
  },
  {
   "cell_type": "markdown",
   "metadata": {
    "slideshow": {
     "slide_type": "subslide"
    }
   },
   "source": [
    "<!-- <img src=\"https://raw.githubusercontent.com/astro-informatics/course_mlbd_images/master/Lecture15_Images/Airflow_1.png\" style=\"width: 500px;\"/>\n",
    "<img src=\"https://raw.githubusercontent.com/astro-informatics/course_mlbd_images/master/Lecture15_Images/Airflow_2.png\" style=\"width: 500px;\"/>\n",
    "<img src=\"https://raw.githubusercontent.com/astro-informatics/course_mlbd_images/master/Lecture15_Images/Airflow_3.png\" style=\"width: 500px;\"/>\n",
    "<img src=\"https://raw.githubusercontent.com/astro-informatics/course_mlbd_images/master/Lecture15_Images/Airflow_4.png\" style=\"width: 500px;\"/> -->\n",
    "\n",
    "![](https://raw.githubusercontent.com/astro-informatics/course_mlbd_images/master/Lecture15_Images/Airflow_1.png)\n",
    "![](https://raw.githubusercontent.com/astro-informatics/course_mlbd_images/master/Lecture15_Images/Airflow_2.png)\n",
    "![](https://raw.githubusercontent.com/astro-informatics/course_mlbd_images/master/Lecture15_Images/Airflow_3.png)\n",
    "![](https://raw.githubusercontent.com/astro-informatics/course_mlbd_images/master/Lecture15_Images/Airflow_4.png)"
   ]
  },
  {
   "cell_type": "markdown",
   "metadata": {
    "slideshow": {
     "slide_type": "slide"
    }
   },
   "source": [
    "## I need a simple front end for a website → Make a standard web app\n"
   ]
  },
  {
   "cell_type": "markdown",
   "metadata": {
    "slideshow": {
     "slide_type": "fragment"
    }
   },
   "source": [
    "Virtual Machines are great but, as we saw with the AI platform, there can be easy to use set-ups in GCP.\n",
    "\n",
    "What do we need:\n",
    "* The abilty to scale\n",
    "* Connections to internet managed for us\n",
    "    * URL is auto created\n",
    "    * You can point a domain you own to the auto generated URL\n",
    "* Simple way to write code\n",
    "    * Every page or end point you want is simply a function you can write\n",
    "    \n",
    "We can use the Google App Engine (GAE) for this.\n",
    "* See https://cloud.google.com/appengine"
   ]
  },
  {
   "cell_type": "markdown",
   "metadata": {
    "slideshow": {
     "slide_type": "subslide"
    }
   },
   "source": [
    "<!-- <img src=\"https://raw.githubusercontent.com/astro-informatics/course_mlbd_images/master/Lecture15_Images/GAE_1.png\" style=\"width: 500px;\"/>\n",
    "<img src=\"https://raw.githubusercontent.com/astro-informatics/course_mlbd_images/master/Lecture15_Images/GAE_2.png\" style=\"width: 500px;\"/> -->\n",
    "\n",
    "![](https://raw.githubusercontent.com/astro-informatics/course_mlbd_images/master/Lecture15_Images/GAE_1.png)\n",
    "![](https://raw.githubusercontent.com/astro-informatics/course_mlbd_images/master/Lecture15_Images/GAE_2.png)"
   ]
  },
  {
   "cell_type": "markdown",
   "metadata": {
    "slideshow": {
     "slide_type": "subslide"
    }
   },
   "source": [
    "### Flask\n",
    "\n",
    "* [Flask](https://www.fullstackpython.com/flask.html) is a simple web-app python package.\n",
    "* Each part of a website is an endpoint.\n",
    "    * Endpoints can take data (json or other universal formats)\n",
    "    * They can return data or page (eg html code).\n",
    "* Endpoints are created using a simple function decorator.\n",
    "* See https://github.com/rmotr/example-flask-app/blob/master/rmotr/app.py for a good simple example"
   ]
  },
  {
   "cell_type": "markdown",
   "metadata": {
    "slideshow": {
     "slide_type": "subslide"
    }
   },
   "source": [
    "<!-- <img src=\"https://raw.githubusercontent.com/astro-informatics/course_mlbd_images/master/Lecture15_Images/Flask_1.png\" style=\"width: 500px;\"/> -->\n",
    "\n",
    "![](https://raw.githubusercontent.com/astro-informatics/course_mlbd_images/master/Lecture15_Images/Flask_1.png)"
   ]
  },
  {
   "cell_type": "markdown",
   "metadata": {
    "slideshow": {
     "slide_type": "subslide"
    }
   },
   "source": [
    "### Things to consider\n",
    "\n",
    "* There is a Standard version:\n",
    "    * The code cannot write or read from disk\n",
    "    * Language and platform have more restrictions\n",
    "    * Deployment is faster\n",
    "    * Scaling is more responsive\n",
    "* There is a Flexible version\n",
    "    * Can have a much larger choice over what is deployed (using Docker to provision the VM)\n",
    "    * Can read and write from disk\n",
    "    * Deployment is slower\n",
    "    * Scalling is less responsive\n",
    "* Can read from GCS but this is slow (can lead to slow apps)\n",
    "* Deployment is fast (a few tens of seconds to a couple of minutes)"
   ]
  },
  {
   "cell_type": "markdown",
   "metadata": {
    "slideshow": {
     "slide_type": "subslide"
    }
   },
   "source": [
    "### Other versions\n",
    "AWS haver product called Elastic Beanstalk https://aws.amazon.com/elasticbeanstalk/. As GAE it allows you build web apps that can scale to meet the demand."
   ]
  },
  {
   "cell_type": "markdown",
   "metadata": {
    "slideshow": {
     "slide_type": "slide"
    }
   },
   "source": [
    "## I need to have a database → SQL database\n"
   ]
  },
  {
   "cell_type": "markdown",
   "metadata": {
    "slideshow": {
     "slide_type": "fragment"
    }
   },
   "source": [
    "* Database to store results from an experiment or users' data to a website or service\n",
    "* Better to use Cloud SQL as all the connections and serving are done for you\n",
    "* Can allow access through a simple UI or code to any account"
   ]
  },
  {
   "cell_type": "markdown",
   "metadata": {
    "slideshow": {
     "slide_type": "subslide"
    }
   },
   "source": [
    "<img src=\"https://raw.githubusercontent.com/astro-informatics/course_mlbd_images/master/Lecture15_Images/SQL_1.png\" style=\"width: 500px;\"/>"
   ]
  },
  {
   "cell_type": "markdown",
   "metadata": {
    "slideshow": {
     "slide_type": "subslide"
    }
   },
   "source": [
    "### Things to consider\n",
    "\n",
    "* There a lots of options for speed and reliable databases:\n",
    "    * Cloud Spanner\n",
    "    * Cloud SQL\n",
    "    * Cloud Bigtable\n",
    "    * Cloud Firestore\n",
    "    * Firebase Realtime Database\n",
    "    * Cloud Memorystore\n",
    "* There could be a whole two lectures on the differences and benefits.\n",
    "* Cloud SQL database is flexible and probably good for most use cases, unless scalabilty and speed is a must.\n",
    "* The are two main differences relational or document based"
   ]
  },
  {
   "cell_type": "markdown",
   "metadata": {
    "slideshow": {
     "slide_type": "subslide"
    }
   },
   "source": [
    "### SQL or No SQL\n",
    "* Tablular or Json data types\n",
    "\n",
    "<!-- <img src=\"https://raw.githubusercontent.com/astro-informatics/course_mlbd_images/master/Lecture15_Images/SQL_or_No_SQL_1.png\" style=\"width: 500px;\"/>\n",
    "<img src=\"https://raw.githubusercontent.com/astro-informatics/course_mlbd_images/master/Lecture15_Images/SQL_or_No_SQL_2.png\" style=\"width: 500px;\"/> -->\n",
    "\n",
    "![](https://raw.githubusercontent.com/astro-informatics/course_mlbd_images/master/Lecture15_Images/SQL_or_No_SQL_1.png)\n",
    "![](https://raw.githubusercontent.com/astro-informatics/course_mlbd_images/master/Lecture15_Images/SQL_or_No_SQL_2.png)"
   ]
  },
  {
   "cell_type": "markdown",
   "metadata": {
    "slideshow": {
     "slide_type": "subslide"
    }
   },
   "source": [
    "### Other versions\n",
    "AWS has Amazon RDS for SQL Server which seems to be the same"
   ]
  },
  {
   "cell_type": "markdown",
   "metadata": {
    "slideshow": {
     "slide_type": "slide"
    }
   },
   "source": [
    "## Microservices"
   ]
  },
  {
   "cell_type": "markdown",
   "metadata": {
    "slideshow": {
     "slide_type": "fragment"
    }
   },
   "source": [
    "* You'll notice there are now many parts to our cloud computing tool box."
   ]
  },
  {
   "cell_type": "markdown",
   "metadata": {
    "slideshow": {
     "slide_type": "fragment"
    }
   },
   "source": [
    "<img src=\"https://raw.githubusercontent.com/astro-informatics/course_mlbd_images/master/Lecture15_Images/service_diagram_.png\" style=\"width: 500px;\"/>"
   ]
  },
  {
   "cell_type": "markdown",
   "metadata": {
    "slideshow": {
     "slide_type": "fragment"
    }
   },
   "source": [
    "* In principle we could break the app up even further\n",
    "    * Cloud function (GCP) and lamda functions (AWS) are endpoints that scale and perform simple tasks.\n",
    "    * We could break some of the web app into many cloud functions then each would scale separately.\n",
    "    * This way one endpoint can not effect any others (therefore much more stable)"
   ]
  },
  {
   "cell_type": "markdown",
   "metadata": {
    "slideshow": {
     "slide_type": "slide"
    }
   },
   "source": [
    "## I need to keep things seperate → Make good use of projects"
   ]
  },
  {
   "cell_type": "markdown",
   "metadata": {
    "slideshow": {
     "slide_type": "fragment"
    }
   },
   "source": [
    "* As you can probably see in service there will be many microservice each performing their own tasks.\n",
    "* In development we need to be able to try new versions\n",
    "* This would be very risky if we didn't completly seperate **development** code from **production** code."
   ]
  },
  {
   "cell_type": "markdown",
   "metadata": {
    "slideshow": {
     "slide_type": "subslide"
    }
   },
   "source": [
    "<img src=\"https://raw.githubusercontent.com/astro-informatics/course_mlbd_images/master/Lecture15_Images/Projects_1.png\" style=\"width: 500px;\"/>"
   ]
  },
  {
   "cell_type": "markdown",
   "metadata": {
    "slideshow": {
     "slide_type": "notes"
    }
   },
   "source": [
    "Demo of our project structure"
   ]
  },
  {
   "cell_type": "markdown",
   "metadata": {
    "slideshow": {
     "slide_type": "subslide"
    }
   },
   "source": [
    "### Things to consider\n",
    "\n",
    "* You will need an automated way to deploy these services.\n",
    "* Having a staging website allows easy viewing of new features in a website"
   ]
  },
  {
   "cell_type": "markdown",
   "metadata": {
    "slideshow": {
     "slide_type": "subslide"
    }
   },
   "source": [
    "### Other versions\n",
    "AWS use different AWS Accounts to perform the same seperation."
   ]
  }
 ],
 "metadata": {
  "celltoolbar": "Slideshow",
  "kernelspec": {
   "display_name": "Python 3",
   "language": "python",
   "name": "python3"
  },
  "language_info": {
   "codemirror_mode": {
    "name": "ipython",
    "version": 3
   },
   "file_extension": ".py",
   "mimetype": "text/x-python",
   "name": "python",
   "nbconvert_exporter": "python",
   "pygments_lexer": "ipython3",
   "version": "3.8.5"
  }
 },
 "nbformat": 4,
 "nbformat_minor": 4
}
