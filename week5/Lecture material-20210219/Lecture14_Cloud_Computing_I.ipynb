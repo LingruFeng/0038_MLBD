{
 "cells": [
  {
   "cell_type": "markdown",
   "metadata": {
    "slideshow": {
     "slide_type": "slide"
    }
   },
   "source": [
    "# Lecture 14: Cloud Computing I (Development and training)"
   ]
  },
  {
   "cell_type": "markdown",
   "metadata": {
    "slideshow": {
     "slide_type": "subslide"
    }
   },
   "source": [
    "![](https://www.tensorflow.org/images/colab_logo_32px.png)\n",
    "[Run in colab](https://colab.research.google.com/drive/1WAZjxVyzl3taNBSf0mpP_pb1Pc4Q3pqc)"
   ]
  },
  {
   "cell_type": "markdown",
   "metadata": {
    "slideshow": {
     "slide_type": "slide"
    }
   },
   "source": [
    "## Origin of Cloud Computing"
   ]
  },
  {
   "cell_type": "markdown",
   "metadata": {
    "slideshow": {
     "slide_type": "fragment"
    }
   },
   "source": [
    "* Andy Jassy (CEO of Amazon Web Services (AWS)) realised that their different teams were all solving the same problems over and over again.\n",
    "* Amazon realised that they could solve these problems once with good API's and spead up all their teams.\n",
    "* They also realised that this would be a huge business opportunity.\n",
    "* What they did was they made each team consume other teams work as if they were customers."
   ]
  },
  {
   "cell_type": "markdown",
   "metadata": {
    "slideshow": {
     "slide_type": "slide"
    }
   },
   "source": [
    "## Problems\n"
   ]
  },
  {
   "cell_type": "markdown",
   "metadata": {
    "slideshow": {
     "slide_type": "fragment"
    }
   },
   "source": [
    "* Training can be slow"
   ]
  },
  {
   "cell_type": "markdown",
   "metadata": {
    "slideshow": {
     "slide_type": "fragment"
    }
   },
   "source": [
    "* GPU machines are expensive (even many CPU machines)"
   ]
  },
  {
   "cell_type": "markdown",
   "metadata": {
    "slideshow": {
     "slide_type": "fragment"
    }
   },
   "source": [
    "* Running and managing hardware can be a full time job"
   ]
  },
  {
   "cell_type": "markdown",
   "metadata": {
    "slideshow": {
     "slide_type": "fragment"
    }
   },
   "source": [
    "* Allowing a project / website / company to **scale**"
   ]
  },
  {
   "cell_type": "markdown",
   "metadata": {
    "slideshow": {
     "slide_type": "slide"
    }
   },
   "source": [
    "## Structure of these lectures\n",
    "Problem &rightarrow; Solution"
   ]
  },
  {
   "cell_type": "markdown",
   "metadata": {
    "slideshow": {
     "slide_type": "subslide"
    }
   },
   "source": [
    "### Training\n",
    "* I need a powerfull machine &rightarrow; Start a Virtual Machine\n",
    "* I need to store my data and models &rightarrow; Use a bucket\n",
    "* I need to run this training again &rightarrow; AI platform\n"
   ]
  },
  {
   "cell_type": "markdown",
   "metadata": {
    "slideshow": {
     "slide_type": "subslide"
    }
   },
   "source": [
    "### Prediction\n",
    "* I need to let other people use this model &rightarrow; AI platform\n",
    "* I need to perform regular data operations &rightarrow; Airflow\n",
    "* I need a simple front end for a website &rightarrow; Make a standard web app\n",
    "* I need to have a database &rightarrow; SQL database\n",
    "* I need to have a simple microservice &rightarrow; Make a cloud function\n",
    "* I need to keep things seperate &rightarrow; Make good use of projects"
   ]
  },
  {
   "cell_type": "markdown",
   "metadata": {
    "slideshow": {
     "slide_type": "subslide"
    }
   },
   "source": [
    "For each problem I'll go through:\n",
    "* a solution using the Google Cloud PLatform (GCP)\n",
    "* things to consider\n",
    "* the names or websites of similar products in AWS"
   ]
  },
  {
   "cell_type": "markdown",
   "metadata": {
    "slideshow": {
     "slide_type": "slide"
    }
   },
   "source": [
    "## I need a powerfull machine → Start a Virtual Machine.\n",
    "\n",
    "* Choose what you want\n",
    "* Pay only when you use it (almost)\n",
    "* Make it even more powerfull if needed (or less)\n",
    "* See https://cloud.google.com/deep-learning-vm/"
   ]
  },
  {
   "cell_type": "markdown",
   "metadata": {
    "slideshow": {
     "slide_type": "subslide"
    }
   },
   "source": [
    "<!-- <img src=\"https://raw.githubusercontent.com/astro-informatics/course_mlbd_images/master/Lecture14_Images/DL_VM_1.png\" style=\"width: 500px;\"/>\n",
    "<img src=\"https://raw.githubusercontent.com/astro-informatics/course_mlbd_images/master/Lecture14_Images/DL_VM_2.png\" style=\"width: 500px;\"/> -->\n",
    "\n",
    "![](https://raw.githubusercontent.com/astro-informatics/course_mlbd_images/master/Lecture14_Images/DL_VM_1.png)\n",
    "![](https://raw.githubusercontent.com/astro-informatics/course_mlbd_images/master/Lecture14_Images/DL_VM_2.png)"
   ]
  },
  {
   "cell_type": "markdown",
   "metadata": {
    "slideshow": {
     "slide_type": "notes"
    }
   },
   "source": [
    "Demo of choosing and starting a VM"
   ]
  },
  {
   "cell_type": "markdown",
   "metadata": {
    "slideshow": {
     "slide_type": "subslide"
    }
   },
   "source": [
    "## Things to consider\n",
    "* If you're going to need it forever it *may be* worth buying one!\n",
    "* After a year of complete usage it can cost as much as a laptop\n",
    "* No:\n",
    "    * set up time \n",
    "    * risk of damage or theft\n",
    "* Are you sure you're going to need the laptop constantly for a year?"
   ]
  },
  {
   "cell_type": "markdown",
   "metadata": {
    "slideshow": {
     "slide_type": "fragment"
    }
   },
   "source": [
    "* **Remember to turn it off!**"
   ]
  },
  {
   "cell_type": "markdown",
   "metadata": {
    "slideshow": {
     "slide_type": "subslide"
    }
   },
   "source": [
    "### Other versions\n",
    "AWS and Microsoft Azure have comparible set up (there is almost no difference)."
   ]
  },
  {
   "cell_type": "markdown",
   "metadata": {
    "slideshow": {
     "slide_type": "slide"
    }
   },
   "source": [
    "## I need to store my data and models → Use a bucket\n",
    "* Infinite data storage (just pay for what you need)\n",
    "* Can controll access to data (using permissons and making avalable)\n",
    "* Can choose where the data is stored\n",
    "    * Best to be close to location of machines and users\n",
    "* See https://cloud.google.com/storage/docs/creating-buckets"
   ]
  },
  {
   "cell_type": "markdown",
   "metadata": {
    "slideshow": {
     "slide_type": "subslide"
    }
   },
   "source": [
    "<!-- <img src=\"https://raw.githubusercontent.com/astro-informatics/course_mlbd_images/master/Lecture14_Images/Bucket_1.png\" style=\"width: 500px;\"/>\n",
    "<img src=\"https://raw.githubusercontent.com/astro-informatics/course_mlbd_images/master/Lecture14_Images/Bucket_2.png\" style=\"width: 500px;\"/> -->\n",
    "\n",
    "![](https://raw.githubusercontent.com/astro-informatics/course_mlbd_images/master/Lecture14_Images/Bucket_1.png)\n",
    "![](https://raw.githubusercontent.com/astro-informatics/course_mlbd_images/master/Lecture14_Images/Bucket_2.png)"
   ]
  },
  {
   "cell_type": "markdown",
   "metadata": {
    "slideshow": {
     "slide_type": "skip"
    }
   },
   "source": [
    "Demo of using bucket inc.\n",
    "* making a bucket\n",
    "* saving a model there\n",
    "* looking at permisions\n",
    "    * adding a user\n",
    "    * making a file public"
   ]
  },
  {
   "cell_type": "markdown",
   "metadata": {
    "slideshow": {
     "slide_type": "subslide"
    }
   },
   "source": [
    "### Thing to consider\n",
    "\n",
    "* Cost per Gb is different with different settings\n",
    "* Is one of the fastest ways to store data for general use (i.e. making a website)"
   ]
  },
  {
   "cell_type": "markdown",
   "metadata": {
    "slideshow": {
     "slide_type": "subslide"
    }
   },
   "source": [
    "### Other versions\n",
    "They are all the same!"
   ]
  },
  {
   "cell_type": "markdown",
   "metadata": {
    "slideshow": {
     "slide_type": "slide"
    }
   },
   "source": [
    "## I need to run this training again &rightarrow; AI platform"
   ]
  },
  {
   "cell_type": "markdown",
   "metadata": {
    "slideshow": {
     "slide_type": "fragment"
    }
   },
   "source": [
    "* Run training on a GPU from a comand line script anywhere\n",
    "* Only uses resources that are need (spins up, runs and ends)\n",
    "* All data must be downloaded and saved elsewhere (e.g. on Google Cloud Service (GCS))\n",
    "* Can even run hyper-parameter tuning in with ymal file\n",
    "* See https://cloud.google.com/ai-platform/"
   ]
  },
  {
   "cell_type": "markdown",
   "metadata": {
    "slideshow": {
     "slide_type": "subslide"
    }
   },
   "source": [
    "Comand line script to submit jobs.\n",
    "<!-- <img src=\"https://raw.githubusercontent.com/astro-informatics/course_mlbd_images/master/Lecture14_Images/AI_platform_training_1.png\" style=\"width: 500px;\"/> -->\n",
    "![](https://raw.githubusercontent.com/astro-informatics/course_mlbd_images/master/Lecture14_Images/AI_platform_training_1.png)\n",
    "Yaml file to define the training and hyperparameter tuning\n",
    "<!-- <img src=\"https://raw.githubusercontent.com/astro-informatics/course_mlbd_images/master/Lecture14_Images/AI_platform_training_2.png\" style=\"width: 500px;\"/> -->\n",
    "![](https://raw.githubusercontent.com/astro-informatics/course_mlbd_images/master/Lecture14_Images/AI_platform_training_2.png)"
   ]
  },
  {
   "cell_type": "markdown",
   "metadata": {
    "slideshow": {
     "slide_type": "notes"
    }
   },
   "source": [
    "Demo showing the script for training depth estimation"
   ]
  },
  {
   "cell_type": "markdown",
   "metadata": {
    "slideshow": {
     "slide_type": "subslide"
    }
   },
   "source": [
    "### Thing to consider\n",
    "\n",
    "* Slow for quick iteration\n",
    "* Code should be sure to work before using AI platform"
   ]
  },
  {
   "cell_type": "markdown",
   "metadata": {
    "slideshow": {
     "slide_type": "subslide"
    }
   },
   "source": [
    "### Other versions\n",
    "* AWS have Amazon SageMaker https://aws.amazon.com/machine-learning/"
   ]
  }
 ],
 "metadata": {
  "celltoolbar": "Slideshow",
  "kernelspec": {
   "display_name": "Python 3",
   "language": "python",
   "name": "python3"
  },
  "language_info": {
   "codemirror_mode": {
    "name": "ipython",
    "version": 3
   },
   "file_extension": ".py",
   "mimetype": "text/x-python",
   "name": "python",
   "nbconvert_exporter": "python",
   "pygments_lexer": "ipython3",
   "version": "3.8.5"
  }
 },
 "nbformat": 4,
 "nbformat_minor": 4
}
