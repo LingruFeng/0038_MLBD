{
 "cells": [
  {
   "cell_type": "markdown",
   "metadata": {
    "slideshow": {
     "slide_type": "slide"
    }
   },
   "source": [
    "# Lecture 21: AutoEncoders"
   ]
  },
  {
   "cell_type": "markdown",
   "metadata": {
    "slideshow": {
     "slide_type": "subslide"
    }
   },
   "source": [
    "![](https://www.tensorflow.org/images/colab_logo_32px.png)\n",
    "[Run in colab](https://colab.research.google.com/drive/1DnAtRC5udV52Kn5918nlvvLIjkzQKNPT)"
   ]
  },
  {
   "cell_type": "code",
   "execution_count": 1,
   "metadata": {},
   "outputs": [
    {
     "name": "stdout",
     "output_type": "stream",
     "text": [
      "Version: 2021-02-26 09:14:24\n"
     ]
    }
   ],
   "source": [
    "import datetime\n",
    "now = datetime.datetime.now()\n",
    "print(\"Version: \" + now.strftime(\"%Y-%m-%d %H:%M:%S\"))"
   ]
  },
  {
   "cell_type": "markdown",
   "metadata": {
    "slideshow": {
     "slide_type": "slide"
    }
   },
   "source": [
    "## This Lecture \n",
    "\n",
    "* The basics of AutoEncoders\n",
    "* This is a complex and very varied subject (could do a whole course on this alone)\n",
    "* Will not cover supervised pre-training, sparse autoencoder, interpolation\n"
   ]
  },
  {
   "cell_type": "code",
   "execution_count": 2,
   "metadata": {},
   "outputs": [],
   "source": [
    "# To support both python 2 and python 3\n",
    "from __future__ import division, print_function, unicode_literals\n",
    "\n",
    "# Common imports\n",
    "import numpy as np\n",
    "import os\n",
    "import tensorflow as tf\n",
    "\n",
    "# to make this notebook's output stable across runs\n",
    "def reset_state(seed=42):\n",
    "    tf.keras.backend.clear_session()\n",
    "    tf.random.set_seed(seed)\n",
    "    np.random.seed(seed)\n",
    "\n",
    "# To plot pretty figures\n",
    "%matplotlib inline\n",
    "import matplotlib\n",
    "import matplotlib.pyplot as plt\n",
    "plt.rcParams['axes.labelsize'] = 14\n",
    "plt.rcParams['xtick.labelsize'] = 12\n",
    "plt.rcParams['ytick.labelsize'] = 12\n",
    "\n",
    "# Where to save the figures\n",
    "try:\n",
    "    import subprocess\n",
    "    subprocess.run(\"git config --get remote.origin.url | grep 'astro-informatics'\", shell=True, check=True)\n",
    "    PROJECT_ROOT_DIR = \".\"\n",
    "    CHAPTER_ID = \"Lecture21_Images\"\n",
    "except: \n",
    "    PROJECT_ROOT_DIR = \".\"\n",
    "    CHAPTER_ID = \"\"\n",
    "\n",
    "def save_fig(fig_id, tight_layout=True):\n",
    "    path = os.path.join(PROJECT_ROOT_DIR, CHAPTER_ID, fig_id + \".png\")\n",
    "#     print(\"Saving figure\", fig_id)\n",
    "#     if tight_layout:\n",
    "#         plt.tight_layout()\n",
    "#     plt.savefig(path, format='png', dpi=300)\n",
    "    \n",
    "def plot_image(image):\n",
    "    plt.imshow(image, cmap=\"gray\", interpolation=\"nearest\")\n",
    "    plt.axis(\"off\")\n",
    "\n",
    "def plot_color_image(image):\n",
    "    plt.imshow(image.astype(np.uint8),interpolation=\"nearest\")\n",
    "    plt.axis(\"off\")\n",
    "    \n",
    "import warnings\n",
    "warnings.filterwarnings('ignore')\n",
    "\n",
    "def plot_image(image, shape=[28, 28]):\n",
    "    plt.imshow(image.reshape(shape), cmap=\"Greys\", interpolation=\"nearest\")\n",
    "    plt.axis(\"off\")\n",
    "    \n",
    "def plot_multiple_images(images, n_rows, n_cols, pad=2):\n",
    "    images = images - images.min()  # make the minimum == 0, so the padding looks white\n",
    "    w,h = images.shape[1:]\n",
    "    image = np.zeros(((w+pad)*n_rows+pad, (h+pad)*n_cols+pad))\n",
    "    for y in range(n_rows):\n",
    "        for x in range(n_cols):\n",
    "            image[(y*(h+pad)+pad):(y*(h+pad)+pad+h),(x*(w+pad)+pad):(x*(w+pad)+pad+w)] = images[y*n_cols+x]\n",
    "    plt.imshow(image, cmap=\"Greys\", interpolation=\"nearest\")\n",
    "    plt.axis(\"off\")"
   ]
  },
  {
   "cell_type": "markdown",
   "metadata": {
    "slideshow": {
     "slide_type": "slide"
    }
   },
   "source": [
    "## Overview of AutoEncoders\n",
    "\n",
    "* Autoencoders are artificial neural networks capable of learning efficient representations of the input data, called codings, without any supervision (i.e., the training set is unlabeled).\n",
    "* General class of network used to perform data compression, pattern recognition, extracting trends and relations from data \n",
    "* Essentially a normal feedforward network except that there are one or more hidden layers with $N_{\\rm neuron}<N_{\\rm input}$\n",
    "* Also can be used in an unsupervised (i.e. no training classification) manner to learn features from data \n",
    "* they are capable of randomly generating new data that looks very similar to the training data; this is called a generative model.\n"
   ]
  },
  {
   "cell_type": "markdown",
   "metadata": {
    "slideshow": {
     "slide_type": "subslide"
    }
   },
   "source": [
    "\n",
    "* autoencoders work by simply learning to copy their inputs to their outputs. This may sound like a trivial task, but we will see that constraining the network in various ways can make it rather difficult.\n",
    "\n",
    "Simple example (hailstone sequence): \n",
    "* 40, 27, 25, 36, 81, 57, 10, 73, 19, 68 \n",
    "* 50, 25, 76, 38, 19, 58, 29, 88, 44, 22, 11, 34, 17, 52, 26, 13, 40, 20\n",
    "\n",
    "Second sequence has simple rule (even numbers are followed by their half, and odd numbers are followed by their triple plus one)\n"
   ]
  },
  {
   "cell_type": "markdown",
   "metadata": {
    "slideshow": {
     "slide_type": "subslide"
    }
   },
   "source": [
    "Finding 2D representation of 3D data\n",
    "\n",
    "<img src=\"https://raw.githubusercontent.com/astro-informatics/course_mlbd_images/master/Lecture21_Images/ae.jpeg\" alt=\"Drawing\" style=\"width: 500px;\"/>\n",
    "\n",
    "Input mapped to output via an encoder layer\n"
   ]
  },
  {
   "cell_type": "markdown",
   "metadata": {
    "slideshow": {
     "slide_type": "subslide"
    }
   },
   "source": [
    "Example build a 3D data set (same as that used in PCA Lecture)\n",
    "\n",
    "<img src=\"https://raw.githubusercontent.com/astro-informatics/course_mlbd_images/master/Lecture21_Images/3d.jpeg\" alt=\"Drawing\" style=\"width: 450px;\"/>"
   ]
  },
  {
   "cell_type": "code",
   "execution_count": 3,
   "metadata": {},
   "outputs": [],
   "source": [
    "import numpy.random as rnd\n",
    "\n",
    "rnd.seed(4)\n",
    "m = 200\n",
    "w1, w2 = 0.1, 0.3\n",
    "noise = 0.1\n",
    "\n",
    "angles = rnd.rand(m) * 3 * np.pi / 2 - 0.5\n",
    "data = np.empty((m, 3))\n",
    "data[:, 0] = np.cos(angles) + np.sin(angles)/2 + noise * rnd.randn(m) / 2\n",
    "data[:, 1] = np.sin(angles) * 0.7 + noise * rnd.randn(m) / 2\n",
    "data[:, 2] = data[:, 0] * w1 + data[:, 1] * w2 + noise * rnd.randn(m)\n",
    "\n",
    "#normalise the data\n",
    "from sklearn.preprocessing import StandardScaler\n",
    "scaler = StandardScaler()\n",
    "X_train = scaler.fit_transform(data[:100])\n",
    "X_test = scaler.transform(data[100:])"
   ]
  },
  {
   "cell_type": "markdown",
   "metadata": {
    "slideshow": {
     "slide_type": "subslide"
    }
   },
   "source": [
    "Build an Autoencoder"
   ]
  },
  {
   "cell_type": "code",
   "execution_count": 4,
   "metadata": {},
   "outputs": [],
   "source": [
    "import tensorflow as tf\n",
    "from tensorflow import keras\n",
    "\n",
    "reset_state()\n",
    "\n",
    "n_inputs = 3  # 3D data \n",
    "n_hidden = 2  # codings\n",
    "n_outputs = n_inputs #note that in=out \n",
    "\n",
    "learning_rate = 0.01\n",
    "\n",
    "encoder = keras.models.Sequential([keras.layers.Dense(n_hidden, input_shape=[n_inputs])])\n",
    "decoder = keras.models.Sequential([keras.layers.Dense(n_outputs, input_shape=[n_hidden])])\n",
    "autoencoder = keras.models.Sequential([encoder, decoder])\n",
    "\n",
    "autoencoder.compile(loss=\"mse\", optimizer=keras.optimizers.Adam(lr=learning_rate))"
   ]
  },
  {
   "cell_type": "code",
   "execution_count": 5,
   "metadata": {
    "tags": [
     "hide-output"
    ]
   },
   "outputs": [
    {
     "name": "stdout",
     "output_type": "stream",
     "text": [
      "Epoch 1/100\n",
      "4/4 [==============================] - 0s 1ms/step - loss: 1.9714\n",
      "Epoch 2/100\n",
      "4/4 [==============================] - 0s 1ms/step - loss: 1.4906\n",
      "Epoch 3/100\n",
      "4/4 [==============================] - 0s 1ms/step - loss: 1.3932\n",
      "Epoch 4/100\n",
      "4/4 [==============================] - 0s 1ms/step - loss: 1.1865\n",
      "Epoch 5/100\n",
      "4/4 [==============================] - 0s 1ms/step - loss: 0.9824\n",
      "Epoch 6/100\n",
      "4/4 [==============================] - 0s 1ms/step - loss: 0.8260\n",
      "Epoch 7/100\n",
      "4/4 [==============================] - 0s 1ms/step - loss: 0.6834\n",
      "Epoch 8/100\n",
      "4/4 [==============================] - 0s 1ms/step - loss: 0.6474\n",
      "Epoch 9/100\n",
      "4/4 [==============================] - 0s 1ms/step - loss: 0.5804\n",
      "Epoch 10/100\n",
      "4/4 [==============================] - 0s 1ms/step - loss: 0.5197\n",
      "Epoch 11/100\n",
      "4/4 [==============================] - 0s 2ms/step - loss: 0.5068\n",
      "Epoch 12/100\n",
      "4/4 [==============================] - 0s 1ms/step - loss: 0.4686\n",
      "Epoch 13/100\n",
      "4/4 [==============================] - 0s 1ms/step - loss: 0.4243\n",
      "Epoch 14/100\n",
      "4/4 [==============================] - 0s 1ms/step - loss: 0.4212\n",
      "Epoch 15/100\n",
      "4/4 [==============================] - 0s 1ms/step - loss: 0.3982\n",
      "Epoch 16/100\n",
      "4/4 [==============================] - 0s 1ms/step - loss: 0.3758\n",
      "Epoch 17/100\n",
      "4/4 [==============================] - 0s 1ms/step - loss: 0.3807\n",
      "Epoch 18/100\n",
      "4/4 [==============================] - 0s 1ms/step - loss: 0.3626\n",
      "Epoch 19/100\n",
      "4/4 [==============================] - 0s 2ms/step - loss: 0.3373\n",
      "Epoch 20/100\n",
      "4/4 [==============================] - 0s 1ms/step - loss: 0.3310\n",
      "Epoch 21/100\n",
      "4/4 [==============================] - 0s 1ms/step - loss: 0.3110\n",
      "Epoch 22/100\n",
      "4/4 [==============================] - 0s 1ms/step - loss: 0.3141\n",
      "Epoch 23/100\n",
      "4/4 [==============================] - 0s 1ms/step - loss: 0.2908\n",
      "Epoch 24/100\n",
      "4/4 [==============================] - 0s 1ms/step - loss: 0.2716\n",
      "Epoch 25/100\n",
      "4/4 [==============================] - 0s 1ms/step - loss: 0.2737\n",
      "Epoch 26/100\n",
      "4/4 [==============================] - 0s 1ms/step - loss: 0.2511\n",
      "Epoch 27/100\n",
      "4/4 [==============================] - 0s 1ms/step - loss: 0.2535\n",
      "Epoch 28/100\n",
      "4/4 [==============================] - 0s 1ms/step - loss: 0.2542\n",
      "Epoch 29/100\n",
      "4/4 [==============================] - 0s 1ms/step - loss: 0.2217\n",
      "Epoch 30/100\n",
      "4/4 [==============================] - 0s 1ms/step - loss: 0.2200\n",
      "Epoch 31/100\n",
      "4/4 [==============================] - 0s 1ms/step - loss: 0.2121\n",
      "Epoch 32/100\n",
      "4/4 [==============================] - 0s 1ms/step - loss: 0.1960\n",
      "Epoch 33/100\n",
      "4/4 [==============================] - 0s 1ms/step - loss: 0.1989\n",
      "Epoch 34/100\n",
      "4/4 [==============================] - 0s 1ms/step - loss: 0.1764\n",
      "Epoch 35/100\n",
      "4/4 [==============================] - 0s 1ms/step - loss: 0.1713\n",
      "Epoch 36/100\n",
      "4/4 [==============================] - 0s 1ms/step - loss: 0.1663\n",
      "Epoch 37/100\n",
      "4/4 [==============================] - 0s 1ms/step - loss: 0.1617\n",
      "Epoch 38/100\n",
      "4/4 [==============================] - 0s 1ms/step - loss: 0.1491\n",
      "Epoch 39/100\n",
      "4/4 [==============================] - 0s 1ms/step - loss: 0.1403\n",
      "Epoch 40/100\n",
      "4/4 [==============================] - 0s 1ms/step - loss: 0.1376\n",
      "Epoch 41/100\n",
      "4/4 [==============================] - 0s 1ms/step - loss: 0.1320\n",
      "Epoch 42/100\n",
      "4/4 [==============================] - 0s 1ms/step - loss: 0.1230\n",
      "Epoch 43/100\n",
      "4/4 [==============================] - 0s 1ms/step - loss: 0.1241\n",
      "Epoch 44/100\n",
      "4/4 [==============================] - 0s 1ms/step - loss: 0.1145\n",
      "Epoch 45/100\n",
      "4/4 [==============================] - 0s 1ms/step - loss: 0.1039\n",
      "Epoch 46/100\n",
      "4/4 [==============================] - 0s 1ms/step - loss: 0.0956\n",
      "Epoch 47/100\n",
      "4/4 [==============================] - 0s 1ms/step - loss: 0.0958\n",
      "Epoch 48/100\n",
      "4/4 [==============================] - 0s 1ms/step - loss: 0.0893\n",
      "Epoch 49/100\n",
      "4/4 [==============================] - 0s 1ms/step - loss: 0.0819\n",
      "Epoch 50/100\n",
      "4/4 [==============================] - 0s 1ms/step - loss: 0.0793\n",
      "Epoch 51/100\n",
      "4/4 [==============================] - 0s 1ms/step - loss: 0.0827\n",
      "Epoch 52/100\n",
      "4/4 [==============================] - 0s 1ms/step - loss: 0.0722\n",
      "Epoch 53/100\n",
      "4/4 [==============================] - 0s 1ms/step - loss: 0.0752\n",
      "Epoch 54/100\n",
      "4/4 [==============================] - 0s 2ms/step - loss: 0.0670\n",
      "Epoch 55/100\n",
      "4/4 [==============================] - 0s 1ms/step - loss: 0.0647\n",
      "Epoch 56/100\n",
      "4/4 [==============================] - 0s 1ms/step - loss: 0.0714\n",
      "Epoch 57/100\n",
      "4/4 [==============================] - 0s 1ms/step - loss: 0.0661\n",
      "Epoch 58/100\n",
      "4/4 [==============================] - 0s 1ms/step - loss: 0.0633\n",
      "Epoch 59/100\n",
      "4/4 [==============================] - 0s 1ms/step - loss: 0.0641\n",
      "Epoch 60/100\n",
      "4/4 [==============================] - 0s 1ms/step - loss: 0.0622\n",
      "Epoch 61/100\n",
      "4/4 [==============================] - 0s 2ms/step - loss: 0.0608\n",
      "Epoch 62/100\n",
      "4/4 [==============================] - 0s 1ms/step - loss: 0.0604\n",
      "Epoch 63/100\n",
      "4/4 [==============================] - 0s 1ms/step - loss: 0.0570\n",
      "Epoch 64/100\n",
      "4/4 [==============================] - 0s 1ms/step - loss: 0.0557\n",
      "Epoch 65/100\n",
      "4/4 [==============================] - 0s 1ms/step - loss: 0.0614\n",
      "Epoch 66/100\n",
      "4/4 [==============================] - 0s 1ms/step - loss: 0.0517\n",
      "Epoch 67/100\n",
      "4/4 [==============================] - 0s 1ms/step - loss: 0.0533\n",
      "Epoch 68/100\n",
      "4/4 [==============================] - 0s 1ms/step - loss: 0.0556\n",
      "Epoch 69/100\n",
      "4/4 [==============================] - 0s 1ms/step - loss: 0.0527\n",
      "Epoch 70/100\n",
      "4/4 [==============================] - 0s 1ms/step - loss: 0.0548\n",
      "Epoch 71/100\n",
      "4/4 [==============================] - 0s 1ms/step - loss: 0.0569\n",
      "Epoch 72/100\n",
      "4/4 [==============================] - 0s 1ms/step - loss: 0.0560\n",
      "Epoch 73/100\n",
      "4/4 [==============================] - 0s 1ms/step - loss: 0.0567\n",
      "Epoch 74/100\n",
      "4/4 [==============================] - 0s 1ms/step - loss: 0.0538\n",
      "Epoch 75/100\n",
      "4/4 [==============================] - 0s 1ms/step - loss: 0.0556\n",
      "Epoch 76/100\n",
      "4/4 [==============================] - 0s 1ms/step - loss: 0.0519\n",
      "Epoch 77/100\n",
      "4/4 [==============================] - 0s 1ms/step - loss: 0.0545\n",
      "Epoch 78/100\n",
      "4/4 [==============================] - 0s 1ms/step - loss: 0.0569\n",
      "Epoch 79/100\n",
      "4/4 [==============================] - 0s 1ms/step - loss: 0.0594\n",
      "Epoch 80/100\n",
      "4/4 [==============================] - 0s 1ms/step - loss: 0.0551\n",
      "Epoch 81/100\n",
      "4/4 [==============================] - 0s 1ms/step - loss: 0.0518\n",
      "Epoch 82/100\n",
      "4/4 [==============================] - 0s 1ms/step - loss: 0.0512\n",
      "Epoch 83/100\n",
      "4/4 [==============================] - 0s 1ms/step - loss: 0.0522\n",
      "Epoch 84/100\n",
      "4/4 [==============================] - 0s 1ms/step - loss: 0.0549\n",
      "Epoch 85/100\n",
      "4/4 [==============================] - 0s 1ms/step - loss: 0.0528\n",
      "Epoch 86/100\n",
      "4/4 [==============================] - 0s 1ms/step - loss: 0.0534\n",
      "Epoch 87/100\n",
      "4/4 [==============================] - 0s 1ms/step - loss: 0.0494\n",
      "Epoch 88/100\n",
      "4/4 [==============================] - 0s 1ms/step - loss: 0.0556\n",
      "Epoch 89/100\n",
      "4/4 [==============================] - 0s 1ms/step - loss: 0.0506\n",
      "Epoch 90/100\n",
      "4/4 [==============================] - 0s 1ms/step - loss: 0.0526\n",
      "Epoch 91/100\n",
      "4/4 [==============================] - 0s 1ms/step - loss: 0.0551\n",
      "Epoch 92/100\n",
      "4/4 [==============================] - 0s 1ms/step - loss: 0.0521\n",
      "Epoch 93/100\n",
      "4/4 [==============================] - 0s 1ms/step - loss: 0.0563\n",
      "Epoch 94/100\n",
      "4/4 [==============================] - 0s 1ms/step - loss: 0.0503\n",
      "Epoch 95/100\n",
      "4/4 [==============================] - 0s 1ms/step - loss: 0.0532\n",
      "Epoch 96/100\n",
      "4/4 [==============================] - 0s 1ms/step - loss: 0.0494\n",
      "Epoch 97/100\n",
      "4/4 [==============================] - 0s 1ms/step - loss: 0.0538\n",
      "Epoch 98/100\n",
      "4/4 [==============================] - 0s 1ms/step - loss: 0.0512\n",
      "Epoch 99/100\n",
      "4/4 [==============================] - 0s 1ms/step - loss: 0.0478\n",
      "Epoch 100/100\n",
      "4/4 [==============================] - 0s 1ms/step - loss: 0.0532\n"
     ]
    }
   ],
   "source": [
    "history = autoencoder.fit(X_train, X_train, epochs=100)"
   ]
  },
  {
   "cell_type": "code",
   "execution_count": 6,
   "metadata": {},
   "outputs": [],
   "source": [
    "#look at the codings i.e. the inner representation of the data\n",
    "codings = encoder.predict(X_train)"
   ]
  },
  {
   "cell_type": "code",
   "execution_count": 7,
   "metadata": {},
   "outputs": [
    {
     "data": {
      "image/png": "[encoded data removed]",
      "text/plain": [
       "<Figure size 288x216 with 1 Axes>"
      ]
     },
     "metadata": {
      "needs_background": "light"
     },
     "output_type": "display_data"
    }
   ],
   "source": [
    "fig = plt.figure(figsize=(4,3))\n",
    "plt.plot(codings[:,0], codings[:, 1], \"b.\")\n",
    "plt.xlabel(\"$z_1$\", fontsize=18)\n",
    "plt.ylabel(\"$z_2$\", fontsize=18, rotation=0)\n",
    "plt.show()"
   ]
  },
  {
   "cell_type": "markdown",
   "metadata": {
    "slideshow": {
     "slide_type": "slide"
    }
   },
   "source": [
    "## Stacked autoencoders \n",
    "\n",
    "Just like other neural networks we have discussed, autoencoders can have multiple hidden layers. \n",
    "\n",
    "In this case they are called stacked autoencoders (or deep autoencoders).\n"
   ]
  },
  {
   "cell_type": "markdown",
   "metadata": {
    "slideshow": {
     "slide_type": "subslide"
    }
   },
   "source": [
    "The architecture of a stacked autoencoder is typically symmetrical with regards to the central hidden layer (the coding layer). To put it simply, it looks like a sandwich.\n",
    "\n",
    "Example (MNIST data, 28x28=784 pixel input)\n",
    "\n",
    "<img src=\"https://raw.githubusercontent.com/astro-informatics/course_mlbd_images/master/Lecture21_Images/stacked.jpeg\" alt=\"Drawing\" style=\"width: 500px;\"/>\n"
   ]
  },
  {
   "cell_type": "markdown",
   "metadata": {
    "slideshow": {
     "slide_type": "subslide"
    }
   },
   "source": [
    "Let's use the MNIST data as an example"
   ]
  },
  {
   "cell_type": "code",
   "execution_count": 8,
   "metadata": {},
   "outputs": [],
   "source": [
    "(X_train_full, y_train_full), (X_test, y_test) = tf.keras.datasets.fashion_mnist.load_data()\n",
    "X_train_full = X_train_full.astype(np.float32) / 255\n",
    "X_test = X_test.astype(np.float32) / 255\n",
    "X_train, X_valid = X_train_full[:-5000], X_train_full[-5000:]\n",
    "y_train, y_valid = y_train_full[:-5000], y_train_full[-5000:]"
   ]
  },
  {
   "cell_type": "markdown",
   "metadata": {
    "slideshow": {
     "slide_type": "subslide"
    }
   },
   "source": [
    "Let's build a stacked Autoencoder with 3 hidden layers and 1 output layer (ie. 2 stacked Autoencoders). We will use ELU activation, He initialization and L2 regularization.\n",
    "\n",
    "The code should look very familiar, except that there are no labels (no y)!"
   ]
  },
  {
   "cell_type": "code",
   "execution_count": 9,
   "metadata": {},
   "outputs": [],
   "source": [
    "reset_state()\n",
    "\n",
    "n_inputs = 28 * 28 #input dimension \n",
    "n_hidden1 = 300  #first coding\n",
    "n_hidden2 = 150  #second coding\n",
    "n_hidden3 = n_hidden1 #symmetric decoding \n",
    "n_outputs = n_inputs\n",
    "\n",
    "learning_rate = 0.01\n",
    "l2_reg = 0.0001 #limit used in L2 reg\n",
    "\n",
    "#Returns an initializer that generates tensors without scaling variance.\n",
    "#When initializing a deep network, it is in principle advantageous to keep \n",
    "#the scale of the input variance constant, so it does not explode or \n",
    "#diminish by reaching the final layer. \n",
    "he_init = tf.keras.initializers.HeNormal() # He initialization\n",
    "\n",
    "#Returns a function that can be used to apply L2 regularization to weights.\n",
    "#Small values of L2 can help prevent overfitting the training data.\n",
    "l2_regularizer = tf.keras.regularizers.L2(l2_reg)"
   ]
  },
  {
   "cell_type": "code",
   "execution_count": 10,
   "metadata": {},
   "outputs": [],
   "source": [
    "def rounded_accuracy(y_true, y_pred):\n",
    "    return keras.metrics.binary_accuracy(tf.round(y_true), tf.round(y_pred))\n",
    "\n",
    "tf.random.set_seed(42)\n",
    "np.random.seed(42)\n",
    "\n",
    "stacked_encoder = keras.models.Sequential([\n",
    "    keras.layers.Flatten(input_shape=[28, 28]),\n",
    "    keras.layers.Dense(100, activation=tf.keras.layers.ELU(), kernel_initializer=he_init, kernel_regularizer=l2_regularizer),\n",
    "    keras.layers.Dense(30, activation=tf.keras.layers.ELU(), kernel_initializer=he_init, kernel_regularizer=l2_regularizer),\n",
    "])\n",
    "stacked_decoder = keras.models.Sequential([\n",
    "    keras.layers.Dense(100, activation=tf.keras.layers.ELU(), kernel_initializer=he_init, kernel_regularizer=l2_regularizer, input_shape=[30]),\n",
    "    keras.layers.Dense(28 * 28, activation=\"sigmoid\"),\n",
    "    keras.layers.Reshape([28, 28])\n",
    "])\n",
    "stacked_ae = keras.models.Sequential([stacked_encoder, stacked_decoder])\n",
    "stacked_ae.compile(loss=\"binary_crossentropy\",\n",
    "                   optimizer=keras.optimizers.SGD(lr=1.5), metrics=[rounded_accuracy])"
   ]
  },
  {
   "cell_type": "code",
   "execution_count": 11,
   "metadata": {
    "tags": [
     "hide-output"
    ]
   },
   "outputs": [
    {
     "name": "stdout",
     "output_type": "stream",
     "text": [
      "Epoch 1/5\n",
      "367/367 [==============================] - 3s 8ms/step - loss: 0.5036 - rounded_accuracy: 0.7783 - val_loss: 0.3819 - val_rounded_accuracy: 0.8909\n",
      "Epoch 2/5\n",
      "367/367 [==============================] - 2s 7ms/step - loss: 0.3713 - rounded_accuracy: 0.8920 - val_loss: 0.3578 - val_rounded_accuracy: 0.8986\n",
      "Epoch 3/5\n",
      "367/367 [==============================] - 2s 7ms/step - loss: 0.3532 - rounded_accuracy: 0.9029 - val_loss: 0.3464 - val_rounded_accuracy: 0.9106\n",
      "Epoch 4/5\n",
      "367/367 [==============================] - 2s 7ms/step - loss: 0.3436 - rounded_accuracy: 0.9077 - val_loss: 0.3392 - val_rounded_accuracy: 0.9132\n",
      "Epoch 5/5\n",
      "367/367 [==============================] - 2s 6ms/step - loss: 0.3365 - rounded_accuracy: 0.9106 - val_loss: 0.3333 - val_rounded_accuracy: 0.9113\n"
     ]
    }
   ],
   "source": [
    "history = stacked_ae.fit(X_train, X_train, batch_size = 150, epochs=5,\n",
    "                         validation_data=(X_valid, X_valid))"
   ]
  },
  {
   "cell_type": "code",
   "execution_count": 12,
   "metadata": {},
   "outputs": [],
   "source": [
    "def show_reconstructions(model, images=X_valid, n_images=5):\n",
    "    reconstructions = model.predict(images[:n_images])\n",
    "    fig = plt.figure(figsize=(n_images * 1.5, 3))\n",
    "    for image_index in range(n_images):\n",
    "        plt.subplot(2, n_images, 1 + image_index)\n",
    "        plot_image(images[image_index])\n",
    "        plt.subplot(2, n_images, 1 + n_images + image_index)\n",
    "        plot_image(reconstructions[image_index])"
   ]
  },
  {
   "cell_type": "code",
   "execution_count": 13,
   "metadata": {},
   "outputs": [
    {
     "data": {
      "image/png": "[encoded data removed]",
      "text/plain": [
       "<Figure size 540x216 with 10 Axes>"
      ]
     },
     "metadata": {
      "needs_background": "light"
     },
     "output_type": "display_data"
    }
   ],
   "source": [
    "#showing output layer\n",
    "show_reconstructions(stacked_ae)\n",
    "save_fig(\"reconstruction_plot\")"
   ]
  },
  {
   "cell_type": "markdown",
   "metadata": {
    "slideshow": {
     "slide_type": "subslide"
    }
   },
   "source": [
    "Can tie decoding weights to be the same as the encoder - difficult to do with dense, but can be coded manually"
   ]
  },
  {
   "cell_type": "code",
   "execution_count": 14,
   "metadata": {},
   "outputs": [],
   "source": [
    "reset_state()\n",
    "\n",
    "learning_rate = 0.01\n",
    "l2_reg = 0.0005"
   ]
  },
  {
   "cell_type": "code",
   "execution_count": 15,
   "metadata": {},
   "outputs": [],
   "source": [
    "class DenseTranspose(keras.layers.Layer):\n",
    "    def __init__(self, dense, activation=None, **kwargs):\n",
    "        self.dense = dense\n",
    "        self.activation = keras.activations.get(activation)\n",
    "        super().__init__(**kwargs)\n",
    "    def build(self, batch_input_shape):\n",
    "        self.biases = self.add_weight(name=\"bias\",\n",
    "                                      shape=[self.dense.input_shape[-1]],\n",
    "                                      initializer=\"zeros\")\n",
    "        super().build(batch_input_shape)\n",
    "    def call(self, inputs):\n",
    "        z = tf.matmul(inputs, self.dense.weights[0], transpose_b=True)\n",
    "        return self.activation(z + self.biases)"
   ]
  },
  {
   "cell_type": "code",
   "execution_count": 16,
   "metadata": {},
   "outputs": [],
   "source": [
    "keras.backend.clear_session()\n",
    "tf.random.set_seed(42)\n",
    "np.random.seed(42)\n",
    "\n",
    "dense_1 = keras.layers.Dense(100, activation=tf.keras.layers.ELU(), kernel_regularizer=l2_regularizer)\n",
    "dense_2 = keras.layers.Dense(30, activation=tf.keras.layers.ELU(), kernel_regularizer=l2_regularizer)\n",
    "\n",
    "tied_encoder = keras.models.Sequential([\n",
    "    keras.layers.Flatten(input_shape=[28, 28]),\n",
    "    dense_1,\n",
    "    dense_2\n",
    "])\n",
    "\n",
    "tied_decoder = keras.models.Sequential([\n",
    "    DenseTranspose(dense_2, activation=tf.keras.layers.ELU()),\n",
    "    DenseTranspose(dense_1, activation=\"sigmoid\"),\n",
    "    keras.layers.Reshape([28, 28])\n",
    "])\n",
    "\n",
    "tied_ae = keras.models.Sequential([tied_encoder, tied_decoder])\n",
    "\n",
    "tied_ae.compile(loss=\"binary_crossentropy\",\n",
    "                optimizer=keras.optimizers.Adam(lr=learning_rate), metrics=[rounded_accuracy])"
   ]
  },
  {
   "cell_type": "code",
   "execution_count": 17,
   "metadata": {
    "tags": [
     "hide-output"
    ]
   },
   "outputs": [
    {
     "name": "stdout",
     "output_type": "stream",
     "text": [
      "Epoch 1/5\n",
      "367/367 [==============================] - 3s 7ms/step - loss: 0.3965 - rounded_accuracy: 0.8519 - val_loss: 0.3194 - val_rounded_accuracy: 0.9200\n",
      "Epoch 2/5\n",
      "367/367 [==============================] - 3s 7ms/step - loss: 0.3161 - rounded_accuracy: 0.9200 - val_loss: 0.3163 - val_rounded_accuracy: 0.9236\n",
      "Epoch 3/5\n",
      "367/367 [==============================] - 3s 7ms/step - loss: 0.3127 - rounded_accuracy: 0.9236 - val_loss: 0.3125 - val_rounded_accuracy: 0.9266\n",
      "Epoch 4/5\n",
      "367/367 [==============================] - 3s 7ms/step - loss: 0.3111 - rounded_accuracy: 0.9255 - val_loss: 0.3116 - val_rounded_accuracy: 0.9268\n",
      "Epoch 5/5\n",
      "367/367 [==============================] - 3s 7ms/step - loss: 0.3096 - rounded_accuracy: 0.9268 - val_loss: 0.3111 - val_rounded_accuracy: 0.9279\n"
     ]
    }
   ],
   "source": [
    "history = tied_ae.fit(X_train, X_train, epochs=5, batch_size=150,\n",
    "                      validation_data=(X_valid, X_valid))"
   ]
  },
  {
   "cell_type": "code",
   "execution_count": 18,
   "metadata": {},
   "outputs": [
    {
     "data": {
      "image/png": "[encoded data removed]",
      "text/plain": [
       "<Figure size 540x216 with 10 Axes>"
      ]
     },
     "metadata": {
      "needs_background": "light"
     },
     "output_type": "display_data"
    }
   ],
   "source": [
    "show_reconstructions(tied_ae)\n",
    "plt.show()"
   ]
  },
  {
   "cell_type": "markdown",
   "metadata": {
    "slideshow": {
     "slide_type": "slide"
    }
   },
   "source": [
    "## Training One Autoencoder at a Time \n",
    "\n",
    "* Rather than training the whole stacked autoencoder in one go like we just did, \n",
    "* It is often much faster to train one shallow autoencoder at a time, \n",
    "* then stack all of them into a single stacked autoencoder (hence the name)\n",
    "\n",
    "<img src=\"https://raw.githubusercontent.com/astro-informatics/course_mlbd_images/master/Lecture21_Images/stacked2.jpeg\" alt=\"Drawing\" style=\"width: 500px;\"/>\n",
    "\n",
    "\n"
   ]
  },
  {
   "cell_type": "markdown",
   "metadata": {
    "slideshow": {
     "slide_type": "subslide"
    }
   },
   "source": [
    "Using example from tied weights above "
   ]
  },
  {
   "cell_type": "code",
   "execution_count": 19,
   "metadata": {},
   "outputs": [],
   "source": [
    "def train_autoencoder(n_neurons, X_train, X_valid, loss, optimizer,\n",
    "                      n_epochs=10, output_activation=None, metrics=None):\n",
    "    n_inputs = X_train.shape[-1]\n",
    "    encoder = keras.models.Sequential([\n",
    "        keras.layers.Dense(n_neurons, activation=\"selu\", input_shape=[n_inputs])\n",
    "    ])\n",
    "    decoder = keras.models.Sequential([\n",
    "        keras.layers.Dense(n_inputs, activation=output_activation),\n",
    "    ])\n",
    "    autoencoder = keras.models.Sequential([encoder, decoder])\n",
    "    autoencoder.compile(optimizer, loss, metrics=metrics)\n",
    "    autoencoder.fit(X_train, X_train, epochs=n_epochs,\n",
    "                    validation_data=(X_valid, X_valid))\n",
    "    return encoder, decoder, encoder(X_train), encoder(X_valid)"
   ]
  },
  {
   "cell_type": "code",
   "execution_count": 20,
   "metadata": {},
   "outputs": [],
   "source": [
    "tf.random.set_seed(42)\n",
    "np.random.seed(42)\n",
    "\n",
    "K = keras.backend\n",
    "X_train_flat = K.batch_flatten(X_train) # equivalent to .reshape(-1, 28 * 28)\n",
    "X_valid_flat = K.batch_flatten(X_valid)"
   ]
  },
  {
   "cell_type": "code",
   "execution_count": 21,
   "metadata": {
    "tags": [
     "hide-output"
    ]
   },
   "outputs": [
    {
     "name": "stdout",
     "output_type": "stream",
     "text": [
      "Epoch 1/10\n",
      "1719/1719 [==============================] - 5s 3ms/step - loss: 0.3952 - rounded_accuracy: 0.8460 - val_loss: 0.3123 - val_rounded_accuracy: 0.9146\n",
      "Epoch 2/10\n",
      "1719/1719 [==============================] - 4s 2ms/step - loss: 0.3070 - rounded_accuracy: 0.9176 - val_loss: 0.3006 - val_rounded_accuracy: 0.9246\n",
      "Epoch 3/10\n",
      "1719/1719 [==============================] - 4s 2ms/step - loss: 0.2967 - rounded_accuracy: 0.9267 - val_loss: 0.2934 - val_rounded_accuracy: 0.9317\n",
      "Epoch 4/10\n",
      "1719/1719 [==============================] - 4s 2ms/step - loss: 0.2906 - rounded_accuracy: 0.9328 - val_loss: 0.2888 - val_rounded_accuracy: 0.9363\n",
      "Epoch 5/10\n",
      "1719/1719 [==============================] - 4s 2ms/step - loss: 0.2860 - rounded_accuracy: 0.9372 - val_loss: 0.2857 - val_rounded_accuracy: 0.9392\n",
      "Epoch 6/10\n",
      "1719/1719 [==============================] - 4s 2ms/step - loss: 0.2844 - rounded_accuracy: 0.9396 - val_loss: 0.2834 - val_rounded_accuracy: 0.9409\n",
      "Epoch 7/10\n",
      "1719/1719 [==============================] - 4s 2ms/step - loss: 0.2817 - rounded_accuracy: 0.9417 - val_loss: 0.2817 - val_rounded_accuracy: 0.9427\n",
      "Epoch 8/10\n",
      "1719/1719 [==============================] - 4s 2ms/step - loss: 0.2791 - rounded_accuracy: 0.9436 - val_loss: 0.2803 - val_rounded_accuracy: 0.9440\n",
      "Epoch 9/10\n",
      "1719/1719 [==============================] - 4s 2ms/step - loss: 0.2788 - rounded_accuracy: 0.9445 - val_loss: 0.2792 - val_rounded_accuracy: 0.9450\n",
      "Epoch 10/10\n",
      "1719/1719 [==============================] - 4s 2ms/step - loss: 0.2771 - rounded_accuracy: 0.9457 - val_loss: 0.2783 - val_rounded_accuracy: 0.9462\n",
      "Epoch 1/10\n",
      "1719/1719 [==============================] - 2s 944us/step - loss: 1.0915 - val_loss: 0.3435\n",
      "Epoch 2/10\n",
      "1719/1719 [==============================] - 2s 893us/step - loss: 0.2761 - val_loss: 0.2369\n",
      "Epoch 3/10\n",
      "1719/1719 [==============================] - 2s 905us/step - loss: 0.2288 - val_loss: 0.2174\n",
      "Epoch 4/10\n",
      "1719/1719 [==============================] - 2s 917us/step - loss: 0.2128 - val_loss: 0.2060\n",
      "Epoch 5/10\n",
      "1719/1719 [==============================] - 1s 861us/step - loss: 0.2040 - val_loss: 0.1973\n",
      "Epoch 6/10\n",
      "1719/1719 [==============================] - 1s 846us/step - loss: 0.1983 - val_loss: 0.1978\n",
      "Epoch 7/10\n",
      "1719/1719 [==============================] - 2s 908us/step - loss: 0.1963 - val_loss: 0.1994\n",
      "Epoch 8/10\n",
      "1719/1719 [==============================] - 2s 890us/step - loss: 0.1959 - val_loss: 0.2002\n",
      "Epoch 9/10\n",
      "1719/1719 [==============================] - 2s 897us/step - loss: 0.1955 - val_loss: 0.1933\n",
      "Epoch 10/10\n",
      "1719/1719 [==============================] - 2s 922us/step - loss: 0.1928 - val_loss: 0.1952\n"
     ]
    }
   ],
   "source": [
    "enc1, dec1, X_train_enc1, X_valid_enc1 = train_autoencoder(\n",
    "    100, X_train_flat, X_valid_flat, \"binary_crossentropy\",\n",
    "    keras.optimizers.SGD(lr=1.5), output_activation=\"sigmoid\",\n",
    "    metrics=[rounded_accuracy])\n",
    "enc2, dec2, _, _ = train_autoencoder(\n",
    "    30, X_train_enc1, X_valid_enc1, \"mse\", keras.optimizers.SGD(lr=0.05),\n",
    "    output_activation=\"selu\")"
   ]
  },
  {
   "cell_type": "code",
   "execution_count": 22,
   "metadata": {},
   "outputs": [],
   "source": [
    "stacked_ae_1_by_1 = keras.models.Sequential([\n",
    "    keras.layers.Flatten(input_shape=[28, 28]),\n",
    "    enc1, enc2, dec2, dec1,\n",
    "    keras.layers.Reshape([28, 28])\n",
    "])"
   ]
  },
  {
   "cell_type": "code",
   "execution_count": 23,
   "metadata": {},
   "outputs": [
    {
     "data": {
      "image/png": "[encoded data removed]",
      "text/plain": [
       "<Figure size 540x216 with 10 Axes>"
      ]
     },
     "metadata": {
      "needs_background": "light"
     },
     "output_type": "display_data"
    }
   ],
   "source": [
    "show_reconstructions(stacked_ae_1_by_1)\n",
    "plt.show()"
   ]
  },
  {
   "cell_type": "code",
   "execution_count": 24,
   "metadata": {},
   "outputs": [],
   "source": [
    "stacked_ae_1_by_1.compile(loss=\"binary_crossentropy\",\n",
    "                          optimizer=keras.optimizers.SGD(lr=0.1), metrics=[rounded_accuracy])"
   ]
  },
  {
   "cell_type": "code",
   "execution_count": 25,
   "metadata": {
    "tags": [
     "hide-output"
    ]
   },
   "outputs": [
    {
     "name": "stdout",
     "output_type": "stream",
     "text": [
      "Epoch 1/10\n",
      "1719/1719 [==============================] - 5s 3ms/step - loss: 0.2866 - rounded_accuracy: 0.9339 - val_loss: 0.2883 - val_rounded_accuracy: 0.9341\n",
      "Epoch 2/10\n",
      "1719/1719 [==============================] - 4s 3ms/step - loss: 0.2866 - rounded_accuracy: 0.9345 - val_loss: 0.2881 - val_rounded_accuracy: 0.9347\n",
      "Epoch 3/10\n",
      "1719/1719 [==============================] - 5s 3ms/step - loss: 0.2861 - rounded_accuracy: 0.9348 - val_loss: 0.2879 - val_rounded_accuracy: 0.9347\n",
      "Epoch 4/10\n",
      "1719/1719 [==============================] - 5s 3ms/step - loss: 0.2863 - rounded_accuracy: 0.9349 - val_loss: 0.2877 - val_rounded_accuracy: 0.9350\n",
      "Epoch 5/10\n",
      "1719/1719 [==============================] - 5s 3ms/step - loss: 0.2857 - rounded_accuracy: 0.9354 - val_loss: 0.2876 - val_rounded_accuracy: 0.9351\n",
      "Epoch 6/10\n",
      "1719/1719 [==============================] - 4s 3ms/step - loss: 0.2868 - rounded_accuracy: 0.9352 - val_loss: 0.2874 - val_rounded_accuracy: 0.9350\n",
      "Epoch 7/10\n",
      "1719/1719 [==============================] - 5s 3ms/step - loss: 0.2861 - rounded_accuracy: 0.9354 - val_loss: 0.2874 - val_rounded_accuracy: 0.9352\n",
      "Epoch 8/10\n",
      "1719/1719 [==============================] - 5s 3ms/step - loss: 0.2850 - rounded_accuracy: 0.9358 - val_loss: 0.2873 - val_rounded_accuracy: 0.9353\n",
      "Epoch 9/10\n",
      "1719/1719 [==============================] - 4s 3ms/step - loss: 0.2860 - rounded_accuracy: 0.9355 - val_loss: 0.2871 - val_rounded_accuracy: 0.9353\n",
      "Epoch 10/10\n",
      "1719/1719 [==============================] - 4s 3ms/step - loss: 0.2852 - rounded_accuracy: 0.9358 - val_loss: 0.2871 - val_rounded_accuracy: 0.9356\n"
     ]
    }
   ],
   "source": [
    "history = stacked_ae_1_by_1.fit(X_train, X_train, epochs=10,\n",
    "                                validation_data=(X_valid, X_valid))"
   ]
  },
  {
   "cell_type": "code",
   "execution_count": 26,
   "metadata": {},
   "outputs": [
    {
     "name": "stdout",
     "output_type": "stream",
     "text": [
      "WARNING:tensorflow:5 out of the last 8 calls to <function Model.make_predict_function.<locals>.predict_function at 0x7effd36f9820> triggered tf.function retracing. Tracing is expensive and the excessive number of tracings could be due to (1) creating @tf.function repeatedly in a loop, (2) passing tensors with different shapes, (3) passing Python objects instead of tensors. For (1), please define your @tf.function outside of the loop. For (2), @tf.function has experimental_relax_shapes=True option that relaxes argument shapes that can avoid unnecessary retracing. For (3), please refer to https://www.tensorflow.org/guide/function#controlling_retracing and https://www.tensorflow.org/api_docs/python/tf/function for  more details.\n"
     ]
    },
    {
     "data": {
      "image/png": "[encoded data removed]",
      "text/plain": [
       "<Figure size 540x216 with 10 Axes>"
      ]
     },
     "metadata": {
      "needs_background": "light"
     },
     "output_type": "display_data"
    }
   ],
   "source": [
    "show_reconstructions(stacked_ae_1_by_1)\n",
    "plt.show()"
   ]
  },
  {
   "cell_type": "markdown",
   "metadata": {
    "slideshow": {
     "slide_type": "slide"
    }
   },
   "source": [
    "## Visualising the features\n",
    "\n",
    "* Many ways to do this\n",
    "* the simplest technique is to consider each neuron in every hidden layer, and find the training instances that activate it the most. Ok for layers close to input, but not for deep layers\n",
    "* Alternatively e.g. for each neuron in the first hidden layer, you can create an image where a pixel’s intensity corresponds to the weight of the connection to the given neuron\n"
   ]
  },
  {
   "cell_type": "code",
   "execution_count": 27,
   "metadata": {},
   "outputs": [
    {
     "name": "stdout",
     "output_type": "stream",
     "text": [
      "Model: \"sequential_2\"\n",
      "_________________________________________________________________\n",
      "Layer (type)                 Output Shape              Param #   \n",
      "=================================================================\n",
      "sequential (Sequential)      (None, 30)                81530     \n",
      "_________________________________________________________________\n",
      "sequential_1 (Sequential)    (None, 28, 28)            82284     \n",
      "=================================================================\n",
      "Total params: 163,814\n",
      "Trainable params: 163,814\n",
      "Non-trainable params: 0\n",
      "_________________________________________________________________\n"
     ]
    }
   ],
   "source": [
    "stacked_ae.summary()"
   ]
  },
  {
   "cell_type": "code",
   "execution_count": 28,
   "metadata": {},
   "outputs": [
    {
     "name": "stdout",
     "output_type": "stream",
     "text": [
      "(784, 100)\n",
      "(100,)\n",
      "(100, 30)\n",
      "(30,)\n",
      "(30, 100)\n",
      "(100,)\n",
      "(100, 784)\n",
      "(784,)\n"
     ]
    }
   ],
   "source": [
    "for w in stacked_ae.trainable_weights:\n",
    "    print(K.eval(w).shape)"
   ]
  },
  {
   "cell_type": "code",
   "execution_count": 29,
   "metadata": {},
   "outputs": [
    {
     "data": {
      "text/plain": [
       "TensorShape([784, 100])"
      ]
     },
     "execution_count": 29,
     "metadata": {},
     "output_type": "execute_result"
    }
   ],
   "source": [
    "w = stacked_ae.trainable_weights\n",
    "w0 = w[0] # Weights from first layer\n",
    "w0.shape"
   ]
  },
  {
   "cell_type": "code",
   "execution_count": 30,
   "metadata": {},
   "outputs": [
    {
     "data": {
      "text/plain": [
       "<tf.Tensor: shape=(100, 784), dtype=float32, numpy=\n",
       "array([[ 0.01084188, -0.0279023 ,  0.01056698, ...,  0.00880016,\n",
       "         0.05011348, -0.01846465],\n",
       "       [-0.04671494, -0.0408097 , -0.02033382, ..., -0.00910509,\n",
       "        -0.02275836,  0.02304194],\n",
       "       [-0.0273858 ,  0.02133059,  0.00668344, ..., -0.04294644,\n",
       "         0.01718999, -0.01910567],\n",
       "       ...,\n",
       "       [-0.04458157, -0.03678165, -0.00249851, ..., -0.02093115,\n",
       "         0.02336912, -0.00249197],\n",
       "       [-0.04171917,  0.02439172,  0.0166315 , ...,  0.03935052,\n",
       "         0.02817816,  0.00488711],\n",
       "       [ 0.01971633, -0.03207905, -0.03327734, ..., -0.02435274,\n",
       "        -0.0145049 , -0.00577173]], dtype=float32)>"
      ]
     },
     "execution_count": 30,
     "metadata": {},
     "output_type": "execute_result"
    }
   ],
   "source": [
    "w0 = tf.reshape(w0, [100, 784])\n",
    "w0"
   ]
  },
  {
   "cell_type": "code",
   "execution_count": 31,
   "metadata": {},
   "outputs": [
    {
     "data": {
      "image/png": "[encoded data removed]",
      "text/plain": [
       "<Figure size 432x288 with 5 Axes>"
      ]
     },
     "metadata": {
      "needs_background": "light"
     },
     "output_type": "display_data"
    }
   ],
   "source": [
    "for i in range(5):\n",
    "    plt.subplot(1, 5, i + 1)\n",
    "    plot_image(w0[i].numpy())\n",
    "\n",
    "plt.show()"
   ]
  },
  {
   "cell_type": "code",
   "execution_count": 32,
   "metadata": {},
   "outputs": [
    {
     "data": {
      "text/plain": [
       "TensorShape([100, 784])"
      ]
     },
     "execution_count": 32,
     "metadata": {},
     "output_type": "execute_result"
    }
   ],
   "source": [
    "w = stacked_ae.trainable_weights\n",
    "w6 = w[6] # Weights from first layer\n",
    "w6.shape"
   ]
  },
  {
   "cell_type": "code",
   "execution_count": 33,
   "metadata": {},
   "outputs": [
    {
     "data": {
      "image/png": "[encoded data removed]",
      "text/plain": [
       "<Figure size 432x288 with 5 Axes>"
      ]
     },
     "metadata": {
      "needs_background": "light"
     },
     "output_type": "display_data"
    }
   ],
   "source": [
    "for i in range(5):\n",
    "    plt.subplot(1, 5, i + 1)\n",
    "    plot_image(w6[i].numpy())\n",
    "\n",
    "plt.show()     "
   ]
  },
  {
   "cell_type": "markdown",
   "metadata": {
    "slideshow": {
     "slide_type": "slide"
    }
   },
   "source": [
    "## Denoising Autoencoder\n",
    "\n",
    "* Another way to force the autoencoder to learn useful features is to add noise to its inputs, training it to recover the original, noise-free inputs. \n",
    "* This prevents the autoencoder from trivially copying its inputs to its outputs, so it ends up having to find patterns in the data."
   ]
  },
  {
   "cell_type": "markdown",
   "metadata": {
    "slideshow": {
     "slide_type": "subslide"
    }
   },
   "source": [
    "* The noise can be pure Gaussian noise added to the inputs, or it can be randomly switched off inputs, just like in dropout\n",
    "\n",
    "<img src=\"https://raw.githubusercontent.com/astro-informatics/course_mlbd_images/master/Lecture21_Images/noise.jpeg\" alt=\"Drawing\" style=\"width: 500px;\"/>"
   ]
  },
  {
   "cell_type": "markdown",
   "metadata": {
    "slideshow": {
     "slide_type": "subslide"
    }
   },
   "source": [
    "### Gaussian Noise\n",
    "\n",
    "Simple example (not phased training or weight matching so can use tf.keras.layers.Dense)"
   ]
  },
  {
   "cell_type": "code",
   "execution_count": 34,
   "metadata": {},
   "outputs": [],
   "source": [
    "reset_state()\n",
    "\n",
    "denoising_encoder = keras.models.Sequential([\n",
    "    keras.layers.Flatten(input_shape=[28, 28]),\n",
    "    keras.layers.GaussianNoise(0.2),\n",
    "    keras.layers.Dense(100, activation=\"selu\"),\n",
    "    keras.layers.Dense(30, activation=\"selu\")\n",
    "])\n",
    "denoising_decoder = keras.models.Sequential([\n",
    "    keras.layers.Dense(100, activation=\"selu\", input_shape=[30]),\n",
    "    keras.layers.Dense(28 * 28, activation=\"sigmoid\"),\n",
    "    keras.layers.Reshape([28, 28])\n",
    "])\n",
    "denoising_ae = keras.models.Sequential([denoising_encoder, denoising_decoder])\n",
    "denoising_ae.compile(loss=\"binary_crossentropy\", optimizer=keras.optimizers.SGD(lr=1.0),\n",
    "                     metrics=[rounded_accuracy])"
   ]
  },
  {
   "cell_type": "code",
   "execution_count": 35,
   "metadata": {
    "tags": [
     "hide-output"
    ]
   },
   "outputs": [
    {
     "name": "stdout",
     "output_type": "stream",
     "text": [
      "Epoch 1/10\n",
      "1719/1719 [==============================] - 6s 3ms/step - loss: 0.4007 - rounded_accuracy: 0.8323 - val_loss: 0.3182 - val_rounded_accuracy: 0.9036\n",
      "Epoch 2/10\n",
      "1719/1719 [==============================] - 5s 3ms/step - loss: 0.3146 - rounded_accuracy: 0.9075 - val_loss: 0.3087 - val_rounded_accuracy: 0.9156\n",
      "Epoch 3/10\n",
      "1719/1719 [==============================] - 5s 3ms/step - loss: 0.3067 - rounded_accuracy: 0.9140 - val_loss: 0.3035 - val_rounded_accuracy: 0.9191\n",
      "Epoch 4/10\n",
      "1719/1719 [==============================] - 5s 3ms/step - loss: 0.3032 - rounded_accuracy: 0.9173 - val_loss: 0.2999 - val_rounded_accuracy: 0.9207\n",
      "Epoch 5/10\n",
      "1719/1719 [==============================] - 5s 3ms/step - loss: 0.2998 - rounded_accuracy: 0.9205 - val_loss: 0.2968 - val_rounded_accuracy: 0.9252\n",
      "Epoch 6/10\n",
      "1719/1719 [==============================] - 5s 3ms/step - loss: 0.2985 - rounded_accuracy: 0.9222 - val_loss: 0.2947 - val_rounded_accuracy: 0.9272\n",
      "Epoch 7/10\n",
      "1719/1719 [==============================] - 5s 3ms/step - loss: 0.2962 - rounded_accuracy: 0.9239 - val_loss: 0.2946 - val_rounded_accuracy: 0.9275\n",
      "Epoch 8/10\n",
      "1719/1719 [==============================] - 5s 3ms/step - loss: 0.2938 - rounded_accuracy: 0.9254 - val_loss: 0.2931 - val_rounded_accuracy: 0.9296\n",
      "Epoch 9/10\n",
      "1719/1719 [==============================] - 5s 3ms/step - loss: 0.2938 - rounded_accuracy: 0.9259 - val_loss: 0.2923 - val_rounded_accuracy: 0.9265\n",
      "Epoch 10/10\n",
      "1719/1719 [==============================] - 5s 3ms/step - loss: 0.2922 - rounded_accuracy: 0.9270 - val_loss: 0.2906 - val_rounded_accuracy: 0.9300\n"
     ]
    }
   ],
   "source": [
    "history = denoising_ae.fit(X_train, X_train, epochs=10,\n",
    "                           validation_data=(X_valid, X_valid))"
   ]
  },
  {
   "cell_type": "code",
   "execution_count": 36,
   "metadata": {},
   "outputs": [
    {
     "name": "stdout",
     "output_type": "stream",
     "text": [
      "WARNING:tensorflow:6 out of the last 9 calls to <function Model.make_predict_function.<locals>.predict_function at 0x7effd32a09d0> triggered tf.function retracing. Tracing is expensive and the excessive number of tracings could be due to (1) creating @tf.function repeatedly in a loop, (2) passing tensors with different shapes, (3) passing Python objects instead of tensors. For (1), please define your @tf.function outside of the loop. For (2), @tf.function has experimental_relax_shapes=True option that relaxes argument shapes that can avoid unnecessary retracing. For (3), please refer to https://www.tensorflow.org/guide/function#controlling_retracing and https://www.tensorflow.org/api_docs/python/tf/function for  more details.\n"
     ]
    },
    {
     "data": {
      "image/png": "[encoded data removed]",
      "text/plain": [
       "<Figure size 540x216 with 10 Axes>"
      ]
     },
     "metadata": {
      "needs_background": "light"
     },
     "output_type": "display_data"
    }
   ],
   "source": [
    "tf.random.set_seed(42)\n",
    "np.random.seed(42)\n",
    "\n",
    "noise = keras.layers.GaussianNoise(0.1)\n",
    "\n",
    "show_reconstructions(denoising_ae, noise(X_valid, training=True).numpy())\n",
    "plt.show()"
   ]
  },
  {
   "cell_type": "markdown",
   "metadata": {
    "slideshow": {
     "slide_type": "subslide"
    }
   },
   "source": [
    "### Dropout \n",
    "\n",
    "Simple example (not phased training or weight matching so can user tf.layers.dense)"
   ]
  },
  {
   "cell_type": "code",
   "execution_count": 37,
   "metadata": {},
   "outputs": [],
   "source": [
    "tf.random.set_seed(42)\n",
    "np.random.seed(42)\n",
    "\n",
    "dropout_encoder = keras.models.Sequential([\n",
    "    keras.layers.Flatten(input_shape=[28, 28]),\n",
    "    keras.layers.Dropout(0.5),\n",
    "    keras.layers.Dense(100, activation=\"selu\"),\n",
    "    keras.layers.Dense(30, activation=\"selu\")\n",
    "])\n",
    "dropout_decoder = keras.models.Sequential([\n",
    "    keras.layers.Dense(100, activation=\"selu\", input_shape=[30]),\n",
    "    keras.layers.Dense(28 * 28, activation=\"sigmoid\"),\n",
    "    keras.layers.Reshape([28, 28])\n",
    "])\n",
    "dropout_ae = keras.models.Sequential([dropout_encoder, dropout_decoder])\n",
    "dropout_ae.compile(loss=\"binary_crossentropy\", optimizer=keras.optimizers.SGD(lr=1.0),\n",
    "                   metrics=[rounded_accuracy])"
   ]
  },
  {
   "cell_type": "code",
   "execution_count": 38,
   "metadata": {
    "tags": [
     "hide-output"
    ]
   },
   "outputs": [
    {
     "name": "stdout",
     "output_type": "stream",
     "text": [
      "Epoch 1/10\n",
      "1719/1719 [==============================] - 6s 3ms/step - loss: 0.4073 - rounded_accuracy: 0.8261 - val_loss: 0.3200 - val_rounded_accuracy: 0.9041\n",
      "Epoch 2/10\n",
      "1719/1719 [==============================] - 5s 3ms/step - loss: 0.3203 - rounded_accuracy: 0.9017 - val_loss: 0.3126 - val_rounded_accuracy: 0.9110\n",
      "Epoch 3/10\n",
      "1719/1719 [==============================] - 5s 3ms/step - loss: 0.3136 - rounded_accuracy: 0.9066 - val_loss: 0.3075 - val_rounded_accuracy: 0.9153\n",
      "Epoch 4/10\n",
      "1719/1719 [==============================] - 5s 3ms/step - loss: 0.3102 - rounded_accuracy: 0.9094 - val_loss: 0.3041 - val_rounded_accuracy: 0.9178\n",
      "Epoch 5/10\n",
      "1719/1719 [==============================] - 5s 3ms/step - loss: 0.3070 - rounded_accuracy: 0.9121 - val_loss: 0.3015 - val_rounded_accuracy: 0.9193\n",
      "Epoch 6/10\n",
      "1719/1719 [==============================] - 5s 3ms/step - loss: 0.3063 - rounded_accuracy: 0.9132 - val_loss: 0.3014 - val_rounded_accuracy: 0.9172\n",
      "Epoch 7/10\n",
      "1719/1719 [==============================] - 5s 3ms/step - loss: 0.3041 - rounded_accuracy: 0.9147 - val_loss: 0.2995 - val_rounded_accuracy: 0.9210\n",
      "Epoch 8/10\n",
      "1719/1719 [==============================] - 5s 3ms/step - loss: 0.3019 - rounded_accuracy: 0.9160 - val_loss: 0.2978 - val_rounded_accuracy: 0.9229\n",
      "Epoch 9/10\n",
      "1719/1719 [==============================] - 5s 3ms/step - loss: 0.3020 - rounded_accuracy: 0.9163 - val_loss: 0.2971 - val_rounded_accuracy: 0.9221\n",
      "Epoch 10/10\n",
      "1719/1719 [==============================] - 5s 3ms/step - loss: 0.3004 - rounded_accuracy: 0.9173 - val_loss: 0.2959 - val_rounded_accuracy: 0.9237\n"
     ]
    }
   ],
   "source": [
    "history = dropout_ae.fit(X_train, X_train, epochs=10,\n",
    "                         validation_data=(X_valid, X_valid))"
   ]
  },
  {
   "cell_type": "code",
   "execution_count": 39,
   "metadata": {},
   "outputs": [
    {
     "name": "stdout",
     "output_type": "stream",
     "text": [
      "WARNING:tensorflow:7 out of the last 10 calls to <function Model.make_predict_function.<locals>.predict_function at 0x7effd3781940> triggered tf.function retracing. Tracing is expensive and the excessive number of tracings could be due to (1) creating @tf.function repeatedly in a loop, (2) passing tensors with different shapes, (3) passing Python objects instead of tensors. For (1), please define your @tf.function outside of the loop. For (2), @tf.function has experimental_relax_shapes=True option that relaxes argument shapes that can avoid unnecessary retracing. For (3), please refer to https://www.tensorflow.org/guide/function#controlling_retracing and https://www.tensorflow.org/api_docs/python/tf/function for  more details.\n"
     ]
    },
    {
     "data": {
      "image/png": "[encoded data removed]",
      "text/plain": [
       "<Figure size 540x216 with 10 Axes>"
      ]
     },
     "metadata": {
      "needs_background": "light"
     },
     "output_type": "display_data"
    }
   ],
   "source": [
    "tf.random.set_seed(42)\n",
    "np.random.seed(42)\n",
    "\n",
    "dropout = keras.layers.Dropout(0.5)\n",
    "show_reconstructions(dropout_ae, dropout(X_valid, training=True).numpy())\n",
    "save_fig(\"dropout_denoising_plot\", tight_layout=False)"
   ]
  },
  {
   "cell_type": "markdown",
   "metadata": {
    "slideshow": {
     "slide_type": "slide"
    }
   },
   "source": [
    "## Variational Autoencoders \n",
    "\n",
    "* They are probabilistic autoencoders, meaning that their outputs are partly determined by chance,\n",
    "* Most importantly, they are generative autoencoders, meaning that they can generate new instances that look like they were sampled from the training set.\n"
   ]
  },
  {
   "cell_type": "markdown",
   "metadata": {
    "slideshow": {
     "slide_type": "subslide"
    }
   },
   "source": [
    "* the encoder produces a mean coding μ and a standard deviation σ. \n",
    "* The actual coding is then sampled randomly from a Gaussian distribution with mean μ and standard deviation σ.\n",
    "\n",
    "<img src=\"https://raw.githubusercontent.com/astro-informatics/course_mlbd_images/master/Lecture21_Images/var_ae.jpeg\" alt=\"Drawing\" style=\"width: 500px;\"/>\n"
   ]
  },
  {
   "cell_type": "markdown",
   "metadata": {
    "slideshow": {
     "slide_type": "subslide"
    }
   },
   "source": [
    "Gaussian distribution: during training, the cost function (discussed next) pushes the codings to gradually migrate within the coding space (also called the latent space) to occupy a roughly (hyper) spherical region that looks like a cloud of Gaussian points.\n"
   ]
  },
  {
   "cell_type": "markdown",
   "metadata": {
    "slideshow": {
     "slide_type": "subslide"
    }
   },
   "source": [
    "### Cost Function \n",
    "\n",
    "Composed of two parts: \n",
    "* The first is the usual reconstruction loss that pushes the autoencoder to reproduce its inputs (e.g. we can use cross entropy for this) \n",
    "* The second is the _latent loss_ that pushes the autoencoder to have codings that _look as though they were sampled from a simple Gaussian distribution_, for which we use the KL divergence between the target distribution (the Gaussian distribution) and the actual distribution of the internal codings\n"
   ]
  },
  {
   "cell_type": "code",
   "execution_count": 40,
   "metadata": {},
   "outputs": [],
   "source": [
    "class Sampling(keras.layers.Layer):\n",
    "    def call(self, inputs):\n",
    "        mean, log_var = inputs\n",
    "        return K.random_normal(tf.shape(log_var)) * K.exp(log_var / 2) + mean "
   ]
  },
  {
   "cell_type": "code",
   "execution_count": 41,
   "metadata": {},
   "outputs": [],
   "source": [
    "tf.random.set_seed(42)\n",
    "np.random.seed(42)\n",
    "\n",
    "codings_size = 10\n",
    "\n",
    "inputs = keras.layers.Input(shape=[28, 28])\n",
    "z = keras.layers.Flatten()(inputs)\n",
    "z = keras.layers.Dense(150, activation=\"selu\")(z)\n",
    "z = keras.layers.Dense(100, activation=\"selu\")(z)\n",
    "codings_mean = keras.layers.Dense(codings_size)(z)\n",
    "codings_log_var = keras.layers.Dense(codings_size)(z)\n",
    "codings = Sampling()([codings_mean, codings_log_var])\n",
    "variational_encoder = keras.models.Model(\n",
    "    inputs=[inputs], outputs=[codings_mean, codings_log_var, codings])\n",
    "\n",
    "decoder_inputs = keras.layers.Input(shape=[codings_size])\n",
    "x = keras.layers.Dense(100, activation=\"selu\")(decoder_inputs)\n",
    "x = keras.layers.Dense(150, activation=\"selu\")(x)\n",
    "x = keras.layers.Dense(28 * 28, activation=\"sigmoid\")(x)\n",
    "outputs = keras.layers.Reshape([28, 28])(x)\n",
    "variational_decoder = keras.models.Model(inputs=[decoder_inputs], outputs=[outputs])\n",
    "\n",
    "_, _, codings = variational_encoder(inputs)\n",
    "reconstructions = variational_decoder(codings)\n",
    "variational_ae = keras.models.Model(inputs=[inputs], outputs=[reconstructions])\n",
    "\n",
    "latent_loss = -0.5 * K.sum(\n",
    "    1 + codings_log_var - K.exp(codings_log_var) - K.square(codings_mean),\n",
    "    axis=-1)\n",
    "variational_ae.add_loss(K.mean(latent_loss) / 784.)\n",
    "variational_ae.compile(loss=\"binary_crossentropy\", optimizer=\"rmsprop\", metrics=[rounded_accuracy])"
   ]
  },
  {
   "cell_type": "code",
   "execution_count": 42,
   "metadata": {
    "tags": [
     "hide-output"
    ]
   },
   "outputs": [
    {
     "name": "stdout",
     "output_type": "stream",
     "text": [
      "Epoch 1/25\n",
      "430/430 [==============================] - 5s 9ms/step - loss: 0.4439 - rounded_accuracy: 0.8154 - val_loss: 0.3594 - val_rounded_accuracy: 0.8787\n",
      "Epoch 2/25\n",
      "430/430 [==============================] - 4s 9ms/step - loss: 0.3463 - rounded_accuracy: 0.8950 - val_loss: 0.3407 - val_rounded_accuracy: 0.9033\n",
      "Epoch 3/25\n",
      "430/430 [==============================] - 4s 9ms/step - loss: 0.3341 - rounded_accuracy: 0.9041 - val_loss: 0.3302 - val_rounded_accuracy: 0.9091\n",
      "Epoch 4/25\n",
      "430/430 [==============================] - 4s 9ms/step - loss: 0.3287 - rounded_accuracy: 0.9084 - val_loss: 0.3295 - val_rounded_accuracy: 0.9112\n",
      "Epoch 5/25\n",
      "430/430 [==============================] - 4s 9ms/step - loss: 0.3251 - rounded_accuracy: 0.9115 - val_loss: 0.3292 - val_rounded_accuracy: 0.9105\n",
      "Epoch 6/25\n",
      "430/430 [==============================] - 4s 9ms/step - loss: 0.3241 - rounded_accuracy: 0.9131 - val_loss: 0.3243 - val_rounded_accuracy: 0.9127\n",
      "Epoch 7/25\n",
      "430/430 [==============================] - 4s 9ms/step - loss: 0.3216 - rounded_accuracy: 0.9147 - val_loss: 0.3237 - val_rounded_accuracy: 0.9134\n",
      "Epoch 8/25\n",
      "430/430 [==============================] - 4s 9ms/step - loss: 0.3192 - rounded_accuracy: 0.9163 - val_loss: 0.3219 - val_rounded_accuracy: 0.9169\n",
      "Epoch 9/25\n",
      "430/430 [==============================] - 4s 9ms/step - loss: 0.3193 - rounded_accuracy: 0.9165 - val_loss: 0.3220 - val_rounded_accuracy: 0.9147\n",
      "Epoch 10/25\n",
      "430/430 [==============================] - 4s 9ms/step - loss: 0.3177 - rounded_accuracy: 0.9175 - val_loss: 0.3199 - val_rounded_accuracy: 0.9169\n",
      "Epoch 11/25\n",
      "430/430 [==============================] - 4s 9ms/step - loss: 0.3176 - rounded_accuracy: 0.9178 - val_loss: 0.3176 - val_rounded_accuracy: 0.9202\n",
      "Epoch 12/25\n",
      "430/430 [==============================] - 4s 9ms/step - loss: 0.3162 - rounded_accuracy: 0.9190 - val_loss: 0.3169 - val_rounded_accuracy: 0.9209\n",
      "Epoch 13/25\n",
      "430/430 [==============================] - 4s 9ms/step - loss: 0.3156 - rounded_accuracy: 0.9189 - val_loss: 0.3178 - val_rounded_accuracy: 0.9205\n",
      "Epoch 14/25\n",
      "430/430 [==============================] - 4s 9ms/step - loss: 0.3147 - rounded_accuracy: 0.9200 - val_loss: 0.3170 - val_rounded_accuracy: 0.9176\n",
      "Epoch 15/25\n",
      "430/430 [==============================] - 4s 9ms/step - loss: 0.3144 - rounded_accuracy: 0.9198 - val_loss: 0.3166 - val_rounded_accuracy: 0.9201\n",
      "Epoch 16/25\n",
      "430/430 [==============================] - 4s 9ms/step - loss: 0.3149 - rounded_accuracy: 0.9199 - val_loss: 0.3177 - val_rounded_accuracy: 0.9190\n",
      "Epoch 17/25\n",
      "430/430 [==============================] - 4s 9ms/step - loss: 0.3144 - rounded_accuracy: 0.9203 - val_loss: 0.3169 - val_rounded_accuracy: 0.9207\n",
      "Epoch 18/25\n",
      "430/430 [==============================] - 4s 9ms/step - loss: 0.3135 - rounded_accuracy: 0.9208 - val_loss: 0.3164 - val_rounded_accuracy: 0.9208\n",
      "Epoch 19/25\n",
      "430/430 [==============================] - 4s 9ms/step - loss: 0.3132 - rounded_accuracy: 0.9215 - val_loss: 0.3155 - val_rounded_accuracy: 0.9226\n",
      "Epoch 20/25\n",
      "430/430 [==============================] - 4s 9ms/step - loss: 0.3125 - rounded_accuracy: 0.9212 - val_loss: 0.3167 - val_rounded_accuracy: 0.9206\n",
      "Epoch 21/25\n",
      "430/430 [==============================] - 4s 9ms/step - loss: 0.3131 - rounded_accuracy: 0.9215 - val_loss: 0.3163 - val_rounded_accuracy: 0.9208\n",
      "Epoch 22/25\n",
      "430/430 [==============================] - 4s 9ms/step - loss: 0.3124 - rounded_accuracy: 0.9218 - val_loss: 0.3127 - val_rounded_accuracy: 0.9231\n",
      "Epoch 23/25\n",
      "430/430 [==============================] - 4s 9ms/step - loss: 0.3119 - rounded_accuracy: 0.9214 - val_loss: 0.3139 - val_rounded_accuracy: 0.9223\n",
      "Epoch 24/25\n",
      "430/430 [==============================] - 4s 9ms/step - loss: 0.3123 - rounded_accuracy: 0.9222 - val_loss: 0.3160 - val_rounded_accuracy: 0.9218\n",
      "Epoch 25/25\n",
      "430/430 [==============================] - 4s 9ms/step - loss: 0.3112 - rounded_accuracy: 0.9222 - val_loss: 0.3135 - val_rounded_accuracy: 0.9206\n"
     ]
    }
   ],
   "source": [
    "history = variational_ae.fit(X_train, X_train, epochs=25, batch_size=128,\n",
    "                             validation_data=(X_valid, X_valid))"
   ]
  },
  {
   "cell_type": "code",
   "execution_count": 43,
   "metadata": {},
   "outputs": [
    {
     "name": "stdout",
     "output_type": "stream",
     "text": [
      "WARNING:tensorflow:8 out of the last 11 calls to <function Model.make_predict_function.<locals>.predict_function at 0x7effd30ae8b0> triggered tf.function retracing. Tracing is expensive and the excessive number of tracings could be due to (1) creating @tf.function repeatedly in a loop, (2) passing tensors with different shapes, (3) passing Python objects instead of tensors. For (1), please define your @tf.function outside of the loop. For (2), @tf.function has experimental_relax_shapes=True option that relaxes argument shapes that can avoid unnecessary retracing. For (3), please refer to https://www.tensorflow.org/guide/function#controlling_retracing and https://www.tensorflow.org/api_docs/python/tf/function for  more details.\n"
     ]
    },
    {
     "data": {
      "image/png": "[encoded data removed]",
      "text/plain": [
       "<Figure size 540x216 with 10 Axes>"
      ]
     },
     "metadata": {
      "needs_background": "light"
     },
     "output_type": "display_data"
    }
   ],
   "source": [
    "show_reconstructions(variational_ae)\n",
    "plt.show()"
   ]
  },
  {
   "cell_type": "markdown",
   "metadata": {
    "slideshow": {
     "slide_type": "slide"
    }
   },
   "source": [
    "## Generate Fashion Images"
   ]
  },
  {
   "cell_type": "code",
   "execution_count": 44,
   "metadata": {},
   "outputs": [],
   "source": [
    "def plot_multiple_images(images, n_cols=None):\n",
    "    n_cols = n_cols or len(images)\n",
    "    n_rows = (len(images) - 1) // n_cols + 1\n",
    "    if images.shape[-1] == 1:\n",
    "        images = np.squeeze(images, axis=-1)\n",
    "    plt.figure(figsize=(n_cols, n_rows))\n",
    "    for index, image in enumerate(images):\n",
    "        plt.subplot(n_rows, n_cols, index + 1)\n",
    "        plt.imshow(image, cmap=\"binary\")\n",
    "        plt.axis(\"off\")"
   ]
  },
  {
   "cell_type": "code",
   "execution_count": 45,
   "metadata": {},
   "outputs": [
    {
     "data": {
      "image/png": "[encoded data removed]",
      "text/plain": [
       "<Figure size 288x216 with 12 Axes>"
      ]
     },
     "metadata": {
      "needs_background": "light"
     },
     "output_type": "display_data"
    }
   ],
   "source": [
    "tf.random.set_seed(42)\n",
    "\n",
    "codings = tf.random.normal(shape=[12, codings_size])\n",
    "images = variational_decoder(codings).numpy()\n",
    "plot_multiple_images(images, 4)\n",
    "save_fig(\"vae_generated_images_plot\", tight_layout=False)"
   ]
  },
  {
   "cell_type": "markdown",
   "metadata": {
    "slideshow": {
     "slide_type": "slide"
    }
   },
   "source": [
    "## No Exercise! \n",
    "\n",
    "* Instead go through these slides and understand the functionality \n",
    "* Also read and look at examples e.g. here https://www.learnopencv.com/understanding-autoencoders-using-tensorflow-python/\n",
    "    "
   ]
  }
 ],
 "metadata": {
  "celltoolbar": "Tags",
  "kernelspec": {
   "display_name": "Python 3",
   "language": "python",
   "name": "python3"
  },
  "language_info": {
   "codemirror_mode": {
    "name": "ipython",
    "version": 3
   },
   "file_extension": ".py",
   "mimetype": "text/x-python",
   "name": "python",
   "nbconvert_exporter": "python",
   "pygments_lexer": "ipython3",
   "version": "3.8.7"
  }
 },
 "nbformat": 4,
 "nbformat_minor": 4
}
